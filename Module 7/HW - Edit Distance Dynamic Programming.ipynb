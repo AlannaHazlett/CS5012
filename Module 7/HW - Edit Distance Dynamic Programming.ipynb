{
 "cells": [
  {
   "cell_type": "markdown",
   "metadata": {},
   "source": [
    "### CS 5012: Foundations of Computer Science\n",
    "#### Programming Assignment: Computing Edit Distance\n",
    "\n",
    "##### Alanna Hazlett\n",
    "##### uwa6xv\n",
    "##### 10/16/2024\n",
    "\n",
    "Last Updated: March 21, 2022\n"
   ]
  },
  {
   "cell_type": "markdown",
   "metadata": {},
   "source": [
    "---"
   ]
  },
  {
   "cell_type": "markdown",
   "metadata": {},
   "source": [
    "**INSTRUCTIONS**\n",
    "\n",
    "Recall that *edit distance* is used to quantify the dissimilarity of two strings.  \n",
    "This is done by counting the minimum number of operations required to transform one string into the other.\n",
    "\n",
    "The operations we will consider are:\n",
    "- delete a character (**H**ello -> ello)\n",
    "- insert a character (ello -> **H**ello)\n",
    "- substitute a character (**t**op -> **b**op) \n",
    "\n",
    "We apply a penalty of 1 for each of these operations.\n",
    "\n",
    "Example:\n",
    "- string1: Hello\n",
    "- string2: elllo\n",
    "\n",
    "edit_distance(Hello,elllo) = 2\n",
    "\n",
    "Starting with *elllo* for example:   \n",
    "elllo -> **H**elllo (insert H: +1)   \n",
    "Hel**l**lo -> Hello (delete l: +1)\n",
    "\n",
    "The strings now match after two operations.\n",
    "\n",
    "Solve all tasks below, showing code and results.  \n",
    "Submit your completed file.\n",
    "\n",
    "\n",
    "**TOTAL POINTS: 10**\n",
    "\n",
    "---"
   ]
  },
  {
   "cell_type": "code",
   "execution_count": 7,
   "metadata": {},
   "outputs": [],
   "source": [
    "import numpy as np\n",
    "import pandas as pd"
   ]
  },
  {
   "cell_type": "markdown",
   "metadata": {},
   "source": [
    "1) (6 POINTS) Write a function that take two strings as input, and computes and returns their edit distance. Use a matrix (as in LCS calculations) to track results, and have the function print the matrix."
   ]
  },
  {
   "cell_type": "code",
   "execution_count": 8,
   "metadata": {},
   "outputs": [],
   "source": [
    "def EditDistance(str1, str2):\n",
    "    '''\n",
    "    INPUTS: Two strings to be compared.\n",
    "    OUTPUT: Edit Distance Matrix as a Pandas Dataframe\n",
    "    '''\n",
    "    # Create initial df for strings\n",
    "    str1 = \" \" + str1\n",
    "    str2 = \" \" + str2\n",
    "    ED = pd.DataFrame(np.zeros((len(str1),len(str2))),\n",
    "                      index=[letter for letter in str1],\n",
    "                      columns = [letter for letter in str2])\n",
    "    \n",
    "    \n",
    "    for i in range(len(str1)):\n",
    "        for j in range(len(str2)): \n",
    "            if str1[i] == str2[j]:\n",
    "                ED.iloc[i,j] = ED.iloc[i-1,j-1]             # Equal Diagonal\n",
    "            else:\n",
    "                ED.iloc[i,j] = min((ED.iloc[i-1, j-1] + 1), # replace\n",
    "                                   (ED.iloc[i-1, j] + 1),   # delete - str2[i] not in str1\n",
    "                                   (ED.iloc[i, j-1] + 1))   # insert - str1[i] not in str2\n",
    "    return ED\n",
    "      "
   ]
  },
  {
   "cell_type": "markdown",
   "metadata": {},
   "source": [
    "2) (1 POINT) Compute edit distance between **Bellman** and empty string"
   ]
  },
  {
   "cell_type": "code",
   "execution_count": 9,
   "metadata": {},
   "outputs": [
    {
     "data": {
      "text/html": [
       "<div>\n",
       "<style scoped>\n",
       "    .dataframe tbody tr th:only-of-type {\n",
       "        vertical-align: middle;\n",
       "    }\n",
       "\n",
       "    .dataframe tbody tr th {\n",
       "        vertical-align: top;\n",
       "    }\n",
       "\n",
       "    .dataframe thead th {\n",
       "        text-align: right;\n",
       "    }\n",
       "</style>\n",
       "<table border=\"1\" class=\"dataframe\">\n",
       "  <thead>\n",
       "    <tr style=\"text-align: right;\">\n",
       "      <th></th>\n",
       "      <th></th>\n",
       "    </tr>\n",
       "  </thead>\n",
       "  <tbody>\n",
       "    <tr>\n",
       "      <th></th>\n",
       "      <td>0.0</td>\n",
       "    </tr>\n",
       "    <tr>\n",
       "      <th>B</th>\n",
       "      <td>1.0</td>\n",
       "    </tr>\n",
       "    <tr>\n",
       "      <th>e</th>\n",
       "      <td>1.0</td>\n",
       "    </tr>\n",
       "    <tr>\n",
       "      <th>l</th>\n",
       "      <td>1.0</td>\n",
       "    </tr>\n",
       "    <tr>\n",
       "      <th>l</th>\n",
       "      <td>1.0</td>\n",
       "    </tr>\n",
       "    <tr>\n",
       "      <th>m</th>\n",
       "      <td>1.0</td>\n",
       "    </tr>\n",
       "    <tr>\n",
       "      <th>a</th>\n",
       "      <td>1.0</td>\n",
       "    </tr>\n",
       "    <tr>\n",
       "      <th>n</th>\n",
       "      <td>1.0</td>\n",
       "    </tr>\n",
       "  </tbody>\n",
       "</table>\n",
       "</div>"
      ],
      "text/plain": [
       "      \n",
       "   0.0\n",
       "B  1.0\n",
       "e  1.0\n",
       "l  1.0\n",
       "l  1.0\n",
       "m  1.0\n",
       "a  1.0\n",
       "n  1.0"
      ]
     },
     "execution_count": 9,
     "metadata": {},
     "output_type": "execute_result"
    }
   ],
   "source": [
    "EditDistance(\"Bellman\",\"\")"
   ]
  },
  {
   "cell_type": "markdown",
   "metadata": {},
   "source": [
    "3)  (1 POINT) Compute edit distance between **test** and **test**"
   ]
  },
  {
   "cell_type": "code",
   "execution_count": 10,
   "metadata": {},
   "outputs": [
    {
     "data": {
      "text/html": [
       "<div>\n",
       "<style scoped>\n",
       "    .dataframe tbody tr th:only-of-type {\n",
       "        vertical-align: middle;\n",
       "    }\n",
       "\n",
       "    .dataframe tbody tr th {\n",
       "        vertical-align: top;\n",
       "    }\n",
       "\n",
       "    .dataframe thead th {\n",
       "        text-align: right;\n",
       "    }\n",
       "</style>\n",
       "<table border=\"1\" class=\"dataframe\">\n",
       "  <thead>\n",
       "    <tr style=\"text-align: right;\">\n",
       "      <th></th>\n",
       "      <th></th>\n",
       "      <th>t</th>\n",
       "      <th>e</th>\n",
       "      <th>s</th>\n",
       "      <th>t</th>\n",
       "    </tr>\n",
       "  </thead>\n",
       "  <tbody>\n",
       "    <tr>\n",
       "      <th></th>\n",
       "      <td>0.0</td>\n",
       "      <td>1.0</td>\n",
       "      <td>1.0</td>\n",
       "      <td>1.0</td>\n",
       "      <td>1.0</td>\n",
       "    </tr>\n",
       "    <tr>\n",
       "      <th>t</th>\n",
       "      <td>1.0</td>\n",
       "      <td>0.0</td>\n",
       "      <td>1.0</td>\n",
       "      <td>2.0</td>\n",
       "      <td>1.0</td>\n",
       "    </tr>\n",
       "    <tr>\n",
       "      <th>e</th>\n",
       "      <td>1.0</td>\n",
       "      <td>1.0</td>\n",
       "      <td>0.0</td>\n",
       "      <td>1.0</td>\n",
       "      <td>2.0</td>\n",
       "    </tr>\n",
       "    <tr>\n",
       "      <th>s</th>\n",
       "      <td>1.0</td>\n",
       "      <td>2.0</td>\n",
       "      <td>1.0</td>\n",
       "      <td>0.0</td>\n",
       "      <td>1.0</td>\n",
       "    </tr>\n",
       "    <tr>\n",
       "      <th>t</th>\n",
       "      <td>1.0</td>\n",
       "      <td>1.0</td>\n",
       "      <td>2.0</td>\n",
       "      <td>1.0</td>\n",
       "      <td>0.0</td>\n",
       "    </tr>\n",
       "  </tbody>\n",
       "</table>\n",
       "</div>"
      ],
      "text/plain": [
       "          t    e    s    t\n",
       "   0.0  1.0  1.0  1.0  1.0\n",
       "t  1.0  0.0  1.0  2.0  1.0\n",
       "e  1.0  1.0  0.0  1.0  2.0\n",
       "s  1.0  2.0  1.0  0.0  1.0\n",
       "t  1.0  1.0  2.0  1.0  0.0"
      ]
     },
     "execution_count": 10,
     "metadata": {},
     "output_type": "execute_result"
    }
   ],
   "source": [
    "EditDistance(\"test\",\"test\")"
   ]
  },
  {
   "cell_type": "markdown",
   "metadata": {},
   "source": [
    "4a)  (1 POINT) Compute edit distance between **mailman** and **namliam**"
   ]
  },
  {
   "cell_type": "code",
   "execution_count": 11,
   "metadata": {},
   "outputs": [
    {
     "data": {
      "text/html": [
       "<div>\n",
       "<style scoped>\n",
       "    .dataframe tbody tr th:only-of-type {\n",
       "        vertical-align: middle;\n",
       "    }\n",
       "\n",
       "    .dataframe tbody tr th {\n",
       "        vertical-align: top;\n",
       "    }\n",
       "\n",
       "    .dataframe thead th {\n",
       "        text-align: right;\n",
       "    }\n",
       "</style>\n",
       "<table border=\"1\" class=\"dataframe\">\n",
       "  <thead>\n",
       "    <tr style=\"text-align: right;\">\n",
       "      <th></th>\n",
       "      <th></th>\n",
       "      <th>n</th>\n",
       "      <th>a</th>\n",
       "      <th>m</th>\n",
       "      <th>l</th>\n",
       "      <th>i</th>\n",
       "      <th>a</th>\n",
       "      <th>m</th>\n",
       "    </tr>\n",
       "  </thead>\n",
       "  <tbody>\n",
       "    <tr>\n",
       "      <th></th>\n",
       "      <td>0.0</td>\n",
       "      <td>1.0</td>\n",
       "      <td>1.0</td>\n",
       "      <td>1.0</td>\n",
       "      <td>1.0</td>\n",
       "      <td>1.0</td>\n",
       "      <td>1.0</td>\n",
       "      <td>1.0</td>\n",
       "    </tr>\n",
       "    <tr>\n",
       "      <th>m</th>\n",
       "      <td>1.0</td>\n",
       "      <td>1.0</td>\n",
       "      <td>2.0</td>\n",
       "      <td>1.0</td>\n",
       "      <td>2.0</td>\n",
       "      <td>2.0</td>\n",
       "      <td>2.0</td>\n",
       "      <td>1.0</td>\n",
       "    </tr>\n",
       "    <tr>\n",
       "      <th>a</th>\n",
       "      <td>1.0</td>\n",
       "      <td>2.0</td>\n",
       "      <td>1.0</td>\n",
       "      <td>2.0</td>\n",
       "      <td>2.0</td>\n",
       "      <td>3.0</td>\n",
       "      <td>2.0</td>\n",
       "      <td>2.0</td>\n",
       "    </tr>\n",
       "    <tr>\n",
       "      <th>i</th>\n",
       "      <td>1.0</td>\n",
       "      <td>2.0</td>\n",
       "      <td>2.0</td>\n",
       "      <td>2.0</td>\n",
       "      <td>3.0</td>\n",
       "      <td>2.0</td>\n",
       "      <td>3.0</td>\n",
       "      <td>3.0</td>\n",
       "    </tr>\n",
       "    <tr>\n",
       "      <th>l</th>\n",
       "      <td>1.0</td>\n",
       "      <td>2.0</td>\n",
       "      <td>3.0</td>\n",
       "      <td>3.0</td>\n",
       "      <td>2.0</td>\n",
       "      <td>3.0</td>\n",
       "      <td>3.0</td>\n",
       "      <td>4.0</td>\n",
       "    </tr>\n",
       "    <tr>\n",
       "      <th>m</th>\n",
       "      <td>1.0</td>\n",
       "      <td>2.0</td>\n",
       "      <td>3.0</td>\n",
       "      <td>3.0</td>\n",
       "      <td>3.0</td>\n",
       "      <td>3.0</td>\n",
       "      <td>4.0</td>\n",
       "      <td>3.0</td>\n",
       "    </tr>\n",
       "    <tr>\n",
       "      <th>a</th>\n",
       "      <td>1.0</td>\n",
       "      <td>2.0</td>\n",
       "      <td>2.0</td>\n",
       "      <td>3.0</td>\n",
       "      <td>4.0</td>\n",
       "      <td>4.0</td>\n",
       "      <td>3.0</td>\n",
       "      <td>4.0</td>\n",
       "    </tr>\n",
       "    <tr>\n",
       "      <th>n</th>\n",
       "      <td>1.0</td>\n",
       "      <td>1.0</td>\n",
       "      <td>2.0</td>\n",
       "      <td>3.0</td>\n",
       "      <td>4.0</td>\n",
       "      <td>5.0</td>\n",
       "      <td>4.0</td>\n",
       "      <td>4.0</td>\n",
       "    </tr>\n",
       "  </tbody>\n",
       "</table>\n",
       "</div>"
      ],
      "text/plain": [
       "          n    a    m    l    i    a    m\n",
       "   0.0  1.0  1.0  1.0  1.0  1.0  1.0  1.0\n",
       "m  1.0  1.0  2.0  1.0  2.0  2.0  2.0  1.0\n",
       "a  1.0  2.0  1.0  2.0  2.0  3.0  2.0  2.0\n",
       "i  1.0  2.0  2.0  2.0  3.0  2.0  3.0  3.0\n",
       "l  1.0  2.0  3.0  3.0  2.0  3.0  3.0  4.0\n",
       "m  1.0  2.0  3.0  3.0  3.0  3.0  4.0  3.0\n",
       "a  1.0  2.0  2.0  3.0  4.0  4.0  3.0  4.0\n",
       "n  1.0  1.0  2.0  3.0  4.0  5.0  4.0  4.0"
      ]
     },
     "execution_count": 11,
     "metadata": {},
     "output_type": "execute_result"
    }
   ],
   "source": [
    "EditDistance(\"mailman\",\"namliam\")"
   ]
  },
  {
   "cell_type": "markdown",
   "metadata": {},
   "source": [
    "4b)  (1 POINT) Show each step of the process to change **mailman** to **namliam**.\n",
    "\n",
    "This should verify the edit distance. You might find your solution from (4a) helpful. "
   ]
  },
  {
   "cell_type": "markdown",
   "metadata": {},
   "source": [
    "> The pathway to determine how and where the edits are made start in the lower right hand corner of our matrix. This value tells us how many edits total are needed, in the case of 4a it is 4. I don't have arrows to follow in my matrix, so we will utilize the facts of the algorithm to follow our path, where if they are the same letter we go diagonal, otherwise we go the direction that has the minimum value, where going diagonal is replacing a letter, going left is inserting a letter, and going up is deleting a letter.\n",
    ">\n",
    "> *  m & n are different, so an action must be taken. The minimum value is in the diagonal, which means we replace a letter.\n",
    "> *  a & a are the same letter, so no action is taken, and we proceed diagonally.\n",
    "> *  i & m are different, so an action must be taken. The minimum value is in the diagonal, which means we replace a letter.\n",
    "> *  l & l are the same letter, so no action is taken, and we proceed diagonally.\n",
    "> *  m & i are different, so an action must be taken. The minimum value is in the diagonal, which means we replace a letter.\n",
    "> *  a & a are the same letter, so no action is taken, and we proceed diagonally.\n",
    "> *  n & m are different, so an action must be taken. The minimum value is in the diagonal, which means we replace a letter."
   ]
  },
  {
   "cell_type": "markdown",
   "metadata": {},
   "source": [
    "---"
   ]
  },
  {
   "cell_type": "markdown",
   "metadata": {},
   "source": [
    "<div class=\"alert alert-block alert-info\">\n",
    "<b>I pledge that I have neither given nor received help on this assignment. : Alanna Hazlett </b>\n",
    "</div>"
   ]
  },
  {
   "cell_type": "code",
   "execution_count": null,
   "metadata": {},
   "outputs": [],
   "source": []
  }
 ],
 "metadata": {
  "kernelspec": {
   "display_name": "Python 3 (ipykernel)",
   "language": "python",
   "name": "python3"
  },
  "language_info": {
   "codemirror_mode": {
    "name": "ipython",
    "version": 3
   },
   "file_extension": ".py",
   "mimetype": "text/x-python",
   "name": "python",
   "nbconvert_exporter": "python",
   "pygments_lexer": "ipython3",
   "version": "3.11.4"
  }
 },
 "nbformat": 4,
 "nbformat_minor": 4
}
