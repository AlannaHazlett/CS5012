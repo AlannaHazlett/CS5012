{
 "cells": [
  {
   "cell_type": "markdown",
   "id": "69ce04ea-b113-411b-ba6e-e3fb6af1e054",
   "metadata": {},
   "source": [
    "### CS 5012\n",
    "### Module 0 Homework\n",
    "#### Alanna Hazlett (uwa6xv)\n",
    "#### September 2nd, 2024"
   ]
  },
  {
   "cell_type": "markdown",
   "id": "76f90e7d-4636-44e5-9c4d-15207c12588b",
   "metadata": {},
   "source": [
    "### Problem 1 \n",
    "Given the predicates and their meanings and utilizing real numbers give the truth values for each proposition.\n",
    "\n",
    "P(x,y):x>y\n",
    "\n",
    "Q(x,y): x $\\leq$ y\n",
    "\n",
    "R(x): x-7=2\n",
    "\n",
    "S(x): x>9"
   ]
  },
  {
   "cell_type": "markdown",
   "id": "d26c1fb2-2db7-4eb9-bb86-9d59add5d0b5",
   "metadata": {},
   "source": [
    "**(i.)** $(\\exists_{x})R(x))$\n",
    "\n",
    "Do there exist numbers where x-7=2?         \n",
    "\n",
    "**True**\n",
    "\n",
    "\n",
    "\n",
    "**(ii.)** $(\\forall_{y})[\\neg S(y)]$\n",
    "\n",
    "Are all real numbers not greater than 9?\n",
    "\n",
    "**False**\n",
    "\n",
    "\n",
    "\n",
    "**(iii.)** $(\\forall_{x})(\\exists_{y})P(x,y)$\n",
    "\n",
    "For all Xs are there Ys where x>y?\n",
    "\n",
    "**True**\n",
    "\n",
    "\n",
    "\n",
    "**(iv.)** $(\\exists_{y})(\\forall_{x})Q(x,y)$\n",
    "\n",
    "Does there exist any y for all x, such that x $\\leq$ y? \n",
    "\n",
    "**True** ------ This is incorrect! We can't distinctly find one number and then the other. There are scenarios where this is a true statement, but there are scenarios where it is false, so it is false.\n",
    "\n",
    "\n",
    "\n",
    "**(v.)** $(\\forall_{x})(\\forall_{y})[P(x,y) \\  \\vee \\ Q(x,y)]$\n",
    "\n",
    "For all Xs and all Ys is x>y or x $\\leq$y?\n",
    "\n",
    "**True**\n",
    "\n",
    "\n",
    "\n",
    "**(vi.)** $ (\\exists_{x}) S(x) \\land \\neg (\\forall_{x})R(x)$\n",
    "\n",
    "For some x, is x>9 and not all Xs x-7=2? \n",
    "\n",
    "**True**\n",
    "\n",
    "\n",
    "\n",
    "**(vii.)** $(\\exists_{y})(\\forall_{x})[S(y) \\land Q(x,y)]$\n",
    "\n",
    "For some y and all Xs is y>9 and x $\\leq$ y?\n",
    "\n",
    "**False**\n",
    "\n",
    "\n",
    "\n",
    "**(viii.)** $(\\forall_{x})(\\forall_{y})[{R(x) \\land S(y)} \\to Q(x,y)]$\n",
    "\n",
    "For all Xs and all Ys is x-7=2 and y>9 true, implying that x $\\leq$ y?\n",
    "\n",
    "If x-7=2 and y>9 then x $\\leq$ y?\n",
    "\n",
    "**True**\n"
   ]
  },
  {
   "cell_type": "markdown",
   "id": "81c80409-ad67-4b7b-ae7b-29119ec0e2ee",
   "metadata": {},
   "source": [
    "### Problem 2\n",
    "Which sentence has the form $(p \\land q) \\to r$?\n",
    "\n",
    "**c.)** If it rains and it snows then flooding will result"
   ]
  },
  {
   "cell_type": "markdown",
   "id": "37674d8f-25d3-4d12-a952-d11860fed3ac",
   "metadata": {},
   "source": [
    "### Problem 3 \n",
    "Which formula represents the sentence \"If there is no fruit in the market then the farmers didn't plant.\"\n",
    "\n",
    "p = There are no fruit in the market\n",
    "\n",
    "q = Farmers didn’t plant fruit trees\n",
    "\n",
    "r = Farmers didn’t water the trees\n",
    "\n",
    "**b.)** $p \\to q \\vee r$"
   ]
  },
  {
   "cell_type": "markdown",
   "id": "ba5d91aa-993c-44d2-ac0b-1e3e90de8e8d",
   "metadata": {},
   "source": [
    "### Problem 4\n",
    "Show $[p ∧ (p → q)] → q$ is a tautology\n",
    "\n",
    "$$[p \\land (\\neg p \\vee q)] \\to q$$\n",
    "$$[(p \\land \\neg p) \\vee (p \\land q)] \\to q$$\n",
    "$$[(F) \\vee (p \\land q)] \\to q$$\n",
    "$$(p \\land q) \\vee q$$\n",
    "$$ \\neg (p \\land q) \\vee q $$\n",
    "$$ \\neg p \\vee \\neg q \\vee q$$\n",
    "$$ \\neg p \\vee T$$\n",
    "$$True$$"
   ]
  },
  {
   "cell_type": "markdown",
   "id": "3abcee96-0041-4010-8eb8-a5797e7fc75a",
   "metadata": {},
   "source": [
    "### Problem 5\n",
    "Argue that Set A and Set A' (complement of A) are disjoint.\n",
    "\n",
    "Disjoint means that they have no common element. \n",
    "\n",
    "The complement of a set is the set of elements not found in the other set. For this situation Set A = {2,3,4,5} and it's complement will be a set of numbers not found in Set A, A'={} an empty set. These two sets will have no common elements, meaning they are disjoint. "
   ]
  },
  {
   "cell_type": "markdown",
   "id": "2bf552c0-8231-4955-bc69-9fa2096794cd",
   "metadata": {},
   "source": [
    "### Problem 6\n",
    "Which is a one-to-one function?\n",
    "\n",
    "**e.)** {(1,2),(2,4),(3,6),(4,8)} "
   ]
  },
  {
   "cell_type": "markdown",
   "id": "c620239d-35e4-4931-8b78-47247d5b837f",
   "metadata": {},
   "source": [
    "### Problem 7\n",
    "Let U = {x:x is an integer and 2 $\\leq x \\leq$ 10}. In each case determine whether A $\\subseteq$ B, B $\\subseteq$ A, neither, or both."
   ]
  },
  {
   "cell_type": "markdown",
   "id": "c3893329-b9ff-44ba-9fef-63029e2ebb56",
   "metadata": {},
   "source": [
    "**(i.)** A = {x: x is odd} = {3,5,7,9} and B = {x: x is a multiple of 3} = {3,6,9}\n",
    "\n",
    "**neither**\n",
    "\n",
    "**(ii.)** A = {x: x is even} = {2,4,6,8,10} and B = {x: $x^2$ is even} = {2,4,6,8,10}\n",
    "\n",
    "**both**\n",
    "\n",
    "**(iii.)** A = {x: x is even} = {2,4,6,8,10} and B = {x: x is a power of 2}\n",
    "\n",
    "**both**\n",
    "\n",
    "**(iv.)** A = {x: 2x+1>7} = { 4,5,6,7,8,9,10} and B = {x: $x^2$ > 20} = {5,6,7,8,9,10}\n",
    "\n",
    "**B $\\subseteq$ A**\n",
    "\n",
    "**(v.)** A = {x: $\\sqrt{x} \\ \\epsilon \\ \\mathbb{Z}$} = {4,9} and B = {x: x is a power of 2 or 3} = {2,3,4,6,8,9,10}\n",
    "\n",
    "**A $\\subseteq$ B**\n",
    "\n",
    "**(vi.)** A = {x: $\\sqrt{x} \\leq$ 2} = {2,3,4} and B = {x: x is a perfect square} = {4,9}\n",
    "\n",
    "**neither**\n",
    "\n",
    "**(vii.)** A = {x: $x^2$ - 3x + 2 = 0} = {2} and B = {x: x + 7 is a perfect square} = {2,9}\n",
    "\n",
    "**A $\\subseteq$ B**"
   ]
  },
  {
   "cell_type": "markdown",
   "id": "85376aff-ef37-486e-82e7-e41b0e95c3c0",
   "metadata": {},
   "source": [
    "<div class=\"alert alert-block alert-info\">\n",
    "<b>I pledge that I have neither given nor received help on this assignment. : Alanna Hazlett </b>\n",
    "</div>"
   ]
  },
  {
   "cell_type": "code",
   "execution_count": null,
   "id": "bfd387a4-0f0b-4de3-babb-336a7c89dfe8",
   "metadata": {},
   "outputs": [],
   "source": []
  }
 ],
 "metadata": {
  "kernelspec": {
   "display_name": "Python 3 (ipykernel)",
   "language": "python",
   "name": "python3"
  },
  "language_info": {
   "codemirror_mode": {
    "name": "ipython",
    "version": 3
   },
   "file_extension": ".py",
   "mimetype": "text/x-python",
   "name": "python",
   "nbconvert_exporter": "python",
   "pygments_lexer": "ipython3",
   "version": "3.11.4"
  }
 },
 "nbformat": 4,
 "nbformat_minor": 5
}
