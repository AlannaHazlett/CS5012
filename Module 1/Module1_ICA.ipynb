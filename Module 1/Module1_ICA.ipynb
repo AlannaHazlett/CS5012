{
 "cells": [
  {
   "cell_type": "markdown",
   "id": "6e79d4c2-aae4-4072-9c69-4eea895c5b40",
   "metadata": {},
   "source": [
    "## CS 5012 Module 1 ICA\n",
    "### Alanna Hazlett\n",
    "### uwa6xv\n",
    "### September 4th, 2024\n",
    "\n",
    "#### In class problems:"
   ]
  },
  {
   "cell_type": "code",
   "execution_count": null,
   "id": "10d510ba-e20f-43ca-ae7b-8afc33589f2d",
   "metadata": {},
   "outputs": [],
   "source": [
    "def findMax(arr):             1 opertation\n",
    "    max_val = arr[0]          run len(arr) times\n",
    "    for num in arr:           1 operation\n",
    "        if num > max_val:     1 operation\n",
    "            max_val = num     1 operation\n",
    "        return max_val        1 operation\n",
    "\n",
    "1 + len(arr) * (1+1) + 1 -> 2*len(arr) + 2. \n",
    "This simplifies to len(arr) = n, so in big O notation it is O(n). \n",
    "\n",
    "\n",
    "def findMax(arr):\n",
    "    max_val = arr[0]          1 operation\n",
    "    for num in range(5):      run 5 times \n",
    "        if num > max_val:     1 operation\n",
    "            max_val = num     1 operation\n",
    "    return max_val            1 operation\n",
    "\n",
    "1 + 5 * (1+1) + 1 = 12\n",
    "This is O(1). \n",
    "\n",
    "\n",
    "def findMax(arr):                         \n",
    "    max_val = arr[0]                        1 operation\n",
    "    for num in arr:                         run len(arr) times\n",
    "        max_val = complex_function(arr)     complex_function(arr)\n",
    "    return max_val                          1 operation\n",
    "\n",
    "Unknown number of operations/kinds in complex_function,\n",
    "so we just include it in our answer,\n",
    "whether it is multiplication or addition. \n",
    "1 + len(arr) * complex_function(arr) + 1\n",
    "len(arr) * complex_function(arr) + 2\n",
    "len(arr) * complex_function(arr) \n",
    "n = len(arr). \n",
    "This simplifies to O(n * complex_function(arr)). \n",
    "\n",
    "\n",
    "def findMax(arr):\n",
    "    max_val = arr[0]                          1 operation\n",
    "    b = complex_function(arr)                 complex_function(arr)\n",
    "    for num in arr:                           run len(arr) times\n",
    "        max_val = num                         1 operation\n",
    "    return max_val                            1 operation\n",
    "1 + complex_function(arr) + len(arr) * 1 + 1 \n",
    "len(arr) + complex_function(arr) + 2\n",
    "len(arr) + complex_function(arr)\n",
    "n = len(arr). \n",
    "This simplifies to O(n + complex_function(arr)). \n",
    "\n",
    "\n",
    "def findMax(arr1, arr2):\n",
    "    max_val = arr[0]               1 operation                         \n",
    "    for num in arr1:               run len(arr1) times\n",
    "        max_val = num              1 operation\n",
    "    for num in arr2:               run len(arr2) times\n",
    "        max_val = num              1 operation\n",
    "    return max_val                 1 operation\n",
    "We do not know which array is longer or shorter and they could change,\n",
    "so we include both in our big O notation.\n",
    "1 + len(arr1) * 1 + len(arr2) * 1 + 1\n",
    "len(arr1) + len(arr2)\n",
    "n = len(arr1)\n",
    "m = len(arr2)\n",
    "This simplifies to O(n+m).\n",
    "\n",
    "\n",
    "def findMax(arr):\n",
    "    max_val = arr[0]                1 operation\n",
    "    for ii in arr:                  run len(arr) times\n",
    "        for jj in arr:              run len(arr) times\n",
    "            if num > max_val:       1 operation\n",
    "                max_val = num       1 operation\n",
    "    return max_val                  1 operation\n",
    "\n",
    "1 + len(arr) * len(arr) * (1+1) + 1\n",
    "len(arr) * len(arr) * 2 + 2\n",
    "len(arr) * len(arr)\n",
    "n = len(arr)\n",
    "This simplifies to O(n^2).\n",
    "\n",
    "\n",
    "What circumstances do you come across an exponential complexity?\n",
    "Optimization problems.  \n",
    "\n",
    "When do you come across O(log n)?\n",
    "Binary search, the search space is halving in each step. "
   ]
  },
  {
   "cell_type": "markdown",
   "id": "93f628cf-afe2-4cb4-94aa-9a0d8e1e032c",
   "metadata": {},
   "source": [
    "### Breakout group problems\n",
    "##### Problem 6: Calculating the Factorial of a Number"
   ]
  },
  {
   "cell_type": "code",
   "execution_count": null,
   "id": "6bacb40e-4dd0-4fbb-b1d2-764a00e49717",
   "metadata": {},
   "outputs": [],
   "source": [
    "def factorial(n):\n",
    "    if n == 0:\n",
    "        return 1\n",
    "    else:\n",
    "        return n * factorial (n-1)\n",
    "\n",
    "This function is a O(n) function. \n",
    "n = the number of times the function runs,\n",
    "since it is a recursive function. "
   ]
  },
  {
   "cell_type": "markdown",
   "id": "8aa0c6ce-6bcc-41aa-b6d1-549909c60b15",
   "metadata": {},
   "source": [
    "##### Problem 7: Checking for Duplicates in an Array"
   ]
  },
  {
   "cell_type": "code",
   "execution_count": null,
   "id": "9cec5adb-e7c3-46eb-ba39-da9e64963794",
   "metadata": {},
   "outputs": [],
   "source": [
    "def checkDuplicates(arr):\n",
    "    for i in range(len(arr)):               run len(arr) times\n",
    "        for j in range(i + 1, len(arr)):    run len(arr) times\n",
    "            if arr[i] == arr[j]:            1 operation\n",
    "                return True                 1 operation\n",
    "    return False                            1 operation\n",
    "\n",
    "len(arr) * len(arr) * 1 * 1 + 1\n",
    "len(arr) * len(arr)\n",
    "n = len(arr)\n",
    "This simplifies to O(n^2). "
   ]
  },
  {
   "cell_type": "markdown",
   "id": "f132c018-86d5-4ffc-b797-4e599e28d68a",
   "metadata": {},
   "source": [
    "##### Problem 8: Linear Search Algorithm"
   ]
  },
  {
   "cell_type": "code",
   "execution_count": null,
   "id": "80dda513-0595-4d29-a340-d14fb2dcf365",
   "metadata": {},
   "outputs": [],
   "source": [
    "def linearSearch(arr, x):\n",
    "    for i in range(len(arr)):                run len(arr) times\n",
    "        if arr[i] == x:                      1 operation\n",
    "            return i                         1 operation\n",
    "    return -1                                1 operation\n",
    "\n",
    "len(arr) * 1 * 1 + 1 \n",
    "len(arr)\n",
    "n = len(arr)\n",
    "This simplifies to O(n). "
   ]
  },
  {
   "cell_type": "markdown",
   "id": "de0569fe-919f-46dc-8bb8-1993df8d7caa",
   "metadata": {},
   "source": [
    "##### Problem 9: Merging Two Sorted Arrays"
   ]
  },
  {
   "cell_type": "code",
   "execution_count": null,
   "id": "b28a4152-76b0-4651-b355-b4e1d4c05fe1",
   "metadata": {},
   "outputs": [],
   "source": [
    "def mergeArrays(arr1, arr2):\n",
    "    result = []\n",
    "    i, j = 0, 0\n",
    "    while i < len(arr1) and j<len(arr2):     run len(shorter array) times\n",
    "        if arr1[i]<arr2[j]:                  1 operation\n",
    "            result.append(arr1[i])           1 operation\n",
    "            i += 1                           1 operation\n",
    "        else:                                1 operation\n",
    "            result.append(arr2[j])           1 operation\n",
    "            j += 1                           1 operation\n",
    "    result += arr1[i:] + arr2[j:]            1 operation\n",
    "    return result                            1 operation\n",
    "\n",
    "len(shorter array) * 1 * (1+1) + 1 * (1+1) + 1 + 1\n",
    "len(shorter array)  \n",
    "We do not know which array will be shorter,\n",
    "so we must include both in our answer. \n",
    "n = len(arr1)\n",
    "m = len(arr2)\n",
    "This simplifies to O(n+m)."
   ]
  },
  {
   "cell_type": "markdown",
   "id": "01bb2436-f7ff-4854-8be5-5e2952559dfd",
   "metadata": {},
   "source": [
    "##### Problem 10: Finding Unique Elements in an Array"
   ]
  },
  {
   "cell_type": "code",
   "execution_count": null,
   "id": "78af8d72-2ef8-4fda-81a1-91c96313bc96",
   "metadata": {},
   "outputs": [],
   "source": [
    "def findUnique(arr):\n",
    "    unique_elements = set()            1 operation\n",
    "    for num in arr:                    run len(arr) times\n",
    "        unique_elements.add(num)       1 operation\n",
    "    return list(unique_elements)       1 operation\n",
    "\n",
    "1 operation + len(arr) * 1 + 1\n",
    "len(arr)\n",
    "n = len(arr)\n",
    "This simplifies to O(n). "
   ]
  },
  {
   "cell_type": "markdown",
   "id": "57ba4519-2a25-4833-86d9-37cc8858c408",
   "metadata": {},
   "source": [
    "<div class=\"alert alert-block alert-info\">\n",
    "<b>I pledge that I have neither given nor received help on this assignment. : Alanna Hazlett </b>\n",
    "</div>"
   ]
  }
 ],
 "metadata": {
  "kernelspec": {
   "display_name": "Python 3 (ipykernel)",
   "language": "python",
   "name": "python3"
  },
  "language_info": {
   "codemirror_mode": {
    "name": "ipython",
    "version": 3
   },
   "file_extension": ".py",
   "mimetype": "text/x-python",
   "name": "python",
   "nbconvert_exporter": "python",
   "pygments_lexer": "ipython3",
   "version": "3.11.4"
  }
 },
 "nbformat": 4,
 "nbformat_minor": 5
}
