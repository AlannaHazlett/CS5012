{
 "cells": [
  {
   "cell_type": "markdown",
   "metadata": {},
   "source": [
    "### CS 5012: Foundations of Computer Science\n",
    "#### Asymptotic Analysis"
   ]
  },
  {
   "cell_type": "markdown",
   "metadata": {},
   "source": [
    "Objectives: \n",
    "\n",
    "- Review different order classes\n",
    "- Present code examples illustrating the order classes"
   ]
  },
  {
   "cell_type": "markdown",
   "metadata": {},
   "source": [
    "---"
   ]
  },
  {
   "cell_type": "markdown",
   "metadata": {},
   "source": [
    "#### Order Classes"
   ]
  },
  {
   "cell_type": "markdown",
   "metadata": {},
   "source": [
    "$O(1)$  \n",
    "constant time ~ arithmetic operations, comparison operators, variable declaration,\n",
    "assignment statement, invoking a method, returning first/last item in an array"
   ]
  },
  {
   "cell_type": "markdown",
   "metadata": {},
   "source": [
    "$O(log n)$  \n",
    "logarithmic time ~ dividing search space in half each time (taking a list of items,\n",
    "cutting it in half repeatedly until there's only one item left) e.g. binary search"
   ]
  },
  {
   "cell_type": "markdown",
   "metadata": {},
   "source": [
    "$O(n)$  \n",
    "linear time ~ iterate over n elements, utilizing a loop (e.g. for-loop over all n\n",
    "elements) printing a list of n items, looking at each item once, allocate array of size n"
   ]
  },
  {
   "cell_type": "markdown",
   "metadata": {},
   "source": [
    "$O(n log n)$  \n",
    "“n log n” ~ quicksort, mergesort"
   ]
  },
  {
   "cell_type": "markdown",
   "metadata": {},
   "source": [
    "$O(n^2)$  \n",
    "quadratic time ~ looping over n elements twice, utilizing two for-loops one nested within the other  \n",
    "(e.g. taking a list of n items, and comparing every item to every other item),\n",
    "allocate an nxn array "
   ]
  },
  {
   "cell_type": "markdown",
   "metadata": {},
   "source": [
    "$O(n^3)$  \n",
    "cubic time ~ looping over n elements three times, utilizing three for-loops nested\n",
    "within each other"
   ]
  },
  {
   "cell_type": "markdown",
   "metadata": {},
   "source": [
    "$O(2^n)$  \n",
    "exponential time ~ essentially “brute force”"
   ]
  },
  {
   "cell_type": "markdown",
   "metadata": {},
   "source": [
    "---"
   ]
  },
  {
   "cell_type": "markdown",
   "metadata": {},
   "source": [
    "**Code Examples**"
   ]
  },
  {
   "cell_type": "markdown",
   "metadata": {},
   "source": [
    "[1] Example of $O(1)$  \n",
    "Check if first element is null"
   ]
  },
  {
   "cell_type": "code",
   "execution_count": 8,
   "metadata": {},
   "outputs": [
    {
     "name": "stdout",
     "output_type": "stream",
     "text": [
      "False\n",
      "True\n"
     ]
    }
   ],
   "source": [
    "def IfFirstElementNull(strings):\n",
    "    '''\n",
    "    returns True if first element None, else False\n",
    "    '''\n",
    "    if strings[0] == None:\n",
    "        return True\n",
    "    return False\n",
    "\n",
    "test = ['a', 'b', 'c']\n",
    "print(IfFirstElementNull(test))\n",
    "test[0] = None\n",
    "print(IfFirstElementNull(test))"
   ]
  },
  {
   "cell_type": "code",
   "execution_count": 10,
   "metadata": {},
   "outputs": [
    {
     "data": {
      "text/plain": [
       "[1, 2, 3, 4, 5, 7]"
      ]
     },
     "execution_count": 10,
     "metadata": {},
     "output_type": "execute_result"
    }
   ],
   "source": [
    "def sort_a_list(L):\n",
    "    output = 0\n",
    "    for ii in range(len(L)):\n",
    "        output += complex_function(L)\n",
    "    return output\n",
    "\n",
    "sort_a_list([7,1,2,3,4,5])"
   ]
  },
  {
   "cell_type": "code",
   "execution_count": null,
   "metadata": {},
   "outputs": [],
   "source": [
    "O(N*complex_function(L))"
   ]
  },
  {
   "cell_type": "markdown",
   "metadata": {},
   "source": [
    "**Explanation of [1]**  \n",
    "\n",
    "This algorithm will always execute in the same time (or space) regardless of the size of the input\n",
    "data set. Therefore it runs in constant time O(1)."
   ]
  },
  {
   "cell_type": "markdown",
   "metadata": {},
   "source": [
    "---"
   ]
  },
  {
   "cell_type": "markdown",
   "metadata": {},
   "source": [
    "[2] Example of $O(n)$  \n",
    "Sum the numbers in a list. The problem size, *n*, is the length of the list."
   ]
  },
  {
   "cell_type": "code",
   "execution_count": 2,
   "metadata": {},
   "outputs": [
    {
     "name": "stdout",
     "output_type": "stream",
     "text": [
      "15\n"
     ]
    }
   ],
   "source": [
    "A = [1, 2, 3, 4, 5]\n",
    "n = 5\n",
    "total = 0;\n",
    "\n",
    "for i in range(n):\n",
    "    total = total + A[i]\n",
    "print(total)\n"
   ]
  },
  {
   "cell_type": "code",
   "execution_count": null,
   "metadata": {},
   "outputs": [],
   "source": []
  },
  {
   "cell_type": "code",
   "execution_count": null,
   "metadata": {},
   "outputs": [],
   "source": []
  },
  {
   "cell_type": "code",
   "execution_count": null,
   "metadata": {},
   "outputs": [],
   "source": []
  },
  {
   "cell_type": "markdown",
   "metadata": {},
   "source": [
    "**Explanation of [2]**  \n",
    "\n",
    "This algorithm performs the same operation, $total = total + A[i]$, *n* times. \n",
    "\n",
    "The total time spent on this operation is $a*n$, where a is the time it takes to perform the operation once. \n",
    "\n",
    "The value of *i* is incremented and is compared to *n* each time through the loop. This adds an additional time of $b*n$ to the run time, for some constant *b*. Furthermore, *i* and *total* both have to be initialized to zero; this adds some constant\n",
    "amount *c* to the running time. \n",
    "\n",
    "The exact running time would then be $(a+b)*n+c$, where the\n",
    "constants *a*, *b*, and *c* depend on factors such as how the code is compiled and what computer it is\n",
    "run on. \n",
    "\n",
    "Using the fact that *c* is less than or equal to $c*n$ for any positive integer *n*, we can say that\n",
    "the run time is less than or equal to $(a+b+c)*n$. That is, the run time is less than or equal to a constant times *n*.\n",
    "\n",
    "By definition, this means that the run time for this algorithm is $O(n)$.  \n",
    "\n",
    "---  "
   ]
  },
  {
   "cell_type": "markdown",
   "metadata": {},
   "source": [
    "[3] Example of $O(n^2)$  \n",
    "Bubble Sort"
   ]
  },
  {
   "cell_type": "code",
   "execution_count": 3,
   "metadata": {},
   "outputs": [
    {
     "name": "stdout",
     "output_type": "stream",
     "text": [
      "A: [5, 4, 2, 3, 1]\n",
      "sorted A: [1, 2, 3, 4, 5]\n"
     ]
    }
   ],
   "source": [
    "def simpleBubbleSort(A):\n",
    "    n  = len(A)\n",
    "    for i in range(n):               # (N)\n",
    "        for j in range(n-1):         # (N-1)\n",
    "            if A[j] > A[j+1]:\n",
    "                temp = A[j]\n",
    "                A[j] = A[j+1]\n",
    "                A[j+1] = temp\n",
    "    return A\n",
    "\n",
    "A = [5, 4, 2, 3, 1]\n",
    "print('A:', A)\n",
    "simpleBubbleSort(A)\n",
    "print('sorted A:', A)"
   ]
  },
  {
   "cell_type": "code",
   "execution_count": null,
   "metadata": {},
   "outputs": [],
   "source": [
    "L = [1,2,3,4,5,6,7,8,9,10]\n",
    "for i in range(L):              # O(L)\n",
    "    for j in range(5):          # O(5)\n",
    "        L[i] += L[j]"
   ]
  },
  {
   "cell_type": "code",
   "execution_count": null,
   "metadata": {},
   "outputs": [],
   "source": [
    "O(L*5) = O(5L) = O(L)"
   ]
  },
  {
   "cell_type": "code",
   "execution_count": null,
   "metadata": {},
   "outputs": [],
   "source": [
    "L = [1,2,3,4,5,6,7,8,9,10]\n",
    "M = [1,2,3,4]\n",
    "for i in L:              # O(L)\n",
    "    for j in M:          # O(M)\n",
    "        L[i] += M[j]"
   ]
  },
  {
   "cell_type": "code",
   "execution_count": null,
   "metadata": {},
   "outputs": [],
   "source": [
    "O(L*M)"
   ]
  },
  {
   "cell_type": "code",
   "execution_count": null,
   "metadata": {},
   "outputs": [],
   "source": []
  },
  {
   "cell_type": "code",
   "execution_count": null,
   "metadata": {},
   "outputs": [],
   "source": []
  },
  {
   "cell_type": "markdown",
   "metadata": {},
   "source": [
    "**Explanation of [3]**  \n",
    "\n",
    "The outer for loop in the method is executed *n* times.  \n",
    "Each time the outer for loop is executed, the inner for loop is executed $n-1$ times, so\n",
    "the *if* statement is executed $n*(n-1)$ times. \n",
    "\n",
    "This is $n^2-n$ but since lower order terms are not significant in an asymptotic analysis,  \n",
    "it's good enough to say that the if statement is executed about $n^2$ times. \n",
    "\n",
    "Furthermore, if we look at other operations -- the assignment statements,\n",
    "incrementing *i* and *j*, etc. -- none of them are executed more than $n^2$ times, so the run time of the\n",
    "`simpleBubbleSort` algorithm is $O(n^2)$."
   ]
  },
  {
   "cell_type": "markdown",
   "metadata": {},
   "source": [
    "---\n",
    "[4] Example of $O(log n)$  \n",
    "Binary Search"
   ]
  },
  {
   "cell_type": "code",
   "execution_count": null,
   "metadata": {},
   "outputs": [],
   "source": [
    "a = [1,2,3,4,5,6,7,8,9,10]\n",
    "\n"
   ]
  },
  {
   "cell_type": "code",
   "execution_count": null,
   "metadata": {},
   "outputs": [],
   "source": []
  },
  {
   "cell_type": "code",
   "execution_count": null,
   "metadata": {},
   "outputs": [],
   "source": []
  },
  {
   "cell_type": "code",
   "execution_count": 13,
   "metadata": {},
   "outputs": [
    {
     "name": "stdout",
     "output_type": "stream",
     "text": [
      "Test 1: find key 4\n",
      "Current Guess: 12\n",
      "Current Guess: 6\n",
      "Current Guess: 2\n",
      "Current Guess: 4\n",
      "found in index: 1\n",
      "\n",
      "Test 2: find key 5\n",
      "Current Guess: 12\n",
      "Current Guess: 6\n",
      "Current Guess: 2\n",
      "Current Guess: 4\n",
      "KEY_NOT_FOUND\n",
      "found in index: None\n"
     ]
    }
   ],
   "source": [
    "def binary_search(A, key, imin, imax):\n",
    "    while imax >= imin:\n",
    "        imid = int(imin + (imax - imin) / 2)\n",
    "        print(\"Current Guess: {}\".format(A[imid]))\n",
    "        if A[imid] == key:\n",
    "            return imid\n",
    "        if A[imid] < key:\n",
    "            imin = imid + 1\n",
    "        if A[imid] > key:\n",
    "            imax = imid - 1\n",
    "    print(\"KEY_NOT_FOUND\")\n",
    "    return None\n",
    "\n",
    "# data\n",
    "A = [2, 4, 6, 8, 10, 12, 14, 16, 18, 20]              # O(N)\n",
    "key = 4; imin = 0; imax = len(A);      # O(3)\n",
    "\n",
    "print('Test 1: find key', key)\n",
    "print('found in index:', binary_search(A, key, imin, imax))\n",
    "\n",
    "key = 5\n",
    "print('')\n",
    "print('Test 2: find key', key)\n",
    "print('found in index:', binary_search(A, key, imin, imax))"
   ]
  },
  {
   "cell_type": "code",
   "execution_count": null,
   "metadata": {},
   "outputs": [],
   "source": [
    "O(M+2*Log(N))"
   ]
  },
  {
   "cell_type": "code",
   "execution_count": null,
   "metadata": {},
   "outputs": [],
   "source": []
  },
  {
   "cell_type": "markdown",
   "metadata": {},
   "source": [
    "---"
   ]
  },
  {
   "cell_type": "markdown",
   "metadata": {},
   "source": [
    "[5] Example of $O(n^2)$: [two separate parts; but still $O(n^2)$]\n"
   ]
  },
  {
   "cell_type": "code",
   "execution_count": 5,
   "metadata": {},
   "outputs": [
    {
     "name": "stdout",
     "output_type": "stream",
     "text": [
      "[1, 2, 3, 4, 5]\n"
     ]
    }
   ],
   "source": [
    "def eg_sort(inArr):\n",
    "    N = len(inArr)                      # O(1)\n",
    "    outArr = [0 for i in range(N)]      # O(N)\n",
    "    \n",
    "    for i in range(N):                  # O(N)\n",
    "        outArr[i] = inArr[i]            # -> O(1)\n",
    "\n",
    "    for i in range(N):                  # O(N)\n",
    "        for j in range (i+1, N):        # -> O(N/2)\n",
    "            if outArr[i] > outArr[j]:   # ->  -> O(1)\n",
    "                tmp = outArr[i]         # ->  -> O(1)\n",
    "                outArr[i] = outArr[j]   # ->  -> O(1)\n",
    "                outArr[j] = tmp         # ->  -> O(1)\n",
    "    return outArr\n",
    "\n",
    "inArr = [2, 3, 5, 4, 1]\n",
    "print(eg_sort(inArr))"
   ]
  },
  {
   "cell_type": "code",
   "execution_count": null,
   "metadata": {},
   "outputs": [],
   "source": [
    "O(1+N+N*1+N*N/2*(4)) = O(1+2N+2N^2) = O(N^2)"
   ]
  },
  {
   "cell_type": "code",
   "execution_count": null,
   "metadata": {},
   "outputs": [],
   "source": []
  },
  {
   "cell_type": "markdown",
   "metadata": {},
   "source": [
    "---"
   ]
  },
  {
   "cell_type": "markdown",
   "metadata": {},
   "source": [
    "**Try for Yourself**\n",
    "\n",
    "Try running these algorithms for different lengths *n* of data and measuring the runtimes.   \n",
    "Plot *n* versus runtime to check if the curve matches what you expect.  \n",
    "\n",
    "To easily scale the data, you can try repeating it with *np.repeat(data, k)*"
   ]
  },
  {
   "cell_type": "code",
   "execution_count": 6,
   "metadata": {},
   "outputs": [],
   "source": [
    "import numpy as np\n",
    "import matplotlib.pyplot as plt\n",
    "import time"
   ]
  },
  {
   "cell_type": "markdown",
   "metadata": {},
   "source": [
    "Example using `simpleBubbleSort`"
   ]
  },
  {
   "cell_type": "code",
   "execution_count": 7,
   "metadata": {},
   "outputs": [
    {
     "data": {
      "image/png": "[encoded data removed]",
      "text/plain": [
       "<Figure size 640x480 with 1 Axes>"
      ]
     },
     "metadata": {},
     "output_type": "display_data"
    }
   ],
   "source": [
    "runtimes = []\n",
    "sizes = []\n",
    "copies = range(1,101)\n",
    "A = [5, 4, 2, 3, 1]\n",
    "n = len(A)\n",
    "\n",
    "for copy in copies:\n",
    "    \n",
    "    # start the clock\n",
    "    t1 = time.time()\n",
    "    \n",
    "    simpleBubbleSort(np.repeat(A,copy))\n",
    "    \n",
    "    # stop the clock\n",
    "    t2 = time.time()-t1\n",
    "    \n",
    "    runtimes.append(t2)\n",
    "    sizes.append(n*copy) # data size\n",
    "\n",
    "plt.plot(sizes, runtimes)\n",
    "plt.show()"
   ]
  },
  {
   "cell_type": "code",
   "execution_count": null,
   "metadata": {},
   "outputs": [],
   "source": []
  }
 ],
 "metadata": {
  "kernelspec": {
   "display_name": "Python 3 (ipykernel)",
   "language": "python",
   "name": "python3"
  },
  "language_info": {
   "codemirror_mode": {
    "name": "ipython",
    "version": 3
   },
   "file_extension": ".py",
   "mimetype": "text/x-python",
   "name": "python",
   "nbconvert_exporter": "python",
   "pygments_lexer": "ipython3",
   "version": "3.9.13"
  }
 },
 "nbformat": 4,
 "nbformat_minor": 4
}
