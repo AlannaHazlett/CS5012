{
 "cells": [
  {
   "cell_type": "markdown",
   "metadata": {},
   "source": [
    "In this example, we investigate and document the theoretical time complexity of insertion sort and experimentally compare its runtime to other sorting algorithms: radix sort, heap sort, & Tim sort.\n",
    "\n",
    "See comments for time complexity explanation line-by-line"
   ]
  },
  {
   "cell_type": "code",
   "execution_count": 1,
   "metadata": {},
   "outputs": [],
   "source": [
    "from itertools import chain\n",
    "import time\n",
    "import random\n",
    "import matplotlib.pyplot as plt\n",
    "import heapq as hq"
   ]
  },
  {
   "cell_type": "code",
   "execution_count": 2,
   "metadata": {},
   "outputs": [],
   "source": [
    "def insertionSort(myArray):\n",
    "    '''\n",
    "    Performs insertion sort\n",
    "    \n",
    "    Arguments\n",
    "    ---------\n",
    "    myArray: list\n",
    "       list to be sorted\n",
    "    \n",
    "    Returns\n",
    "    --------\n",
    "    none: sorts in-place      \n",
    "    \n",
    "    Note: Computational Step Count Estimates (worst case) shown in comments\n",
    "    '''\n",
    "    \n",
    "    n = len(myArray)                                               # c1: constant number of steps\n",
    "    for i in range(n):                                             # c2*n: a linear number of steps \n",
    "        temp = myArray[i]                                          # c3: a constant number of steps\n",
    "        for k in range(i-1, -1, -1):                               # c4*(1+2+3+...+n): a quadratic number of steps\n",
    "            if temp < myArray[k]:                                  # c5*(1+2+3+...+n)\n",
    "                myArray[k + 1] = myArray[k]                        # c6*(1+2+3+...+n)\n",
    "                myArray[k] = temp                                  # c7*(1+2+3+...+n)\n",
    "            else:\n",
    "                break\n",
    "\n",
    "    # Over all computational step count T(n) for insertions sort with list of size n:\n",
    "        # T(n) = c1 + c2*n+ c3*n + (c4 + c5 + c6 + c7)(n(n-1)/2)\n",
    "        # Thus T(n) is O(n^2)"
   ]
  },
  {
   "cell_type": "code",
   "execution_count": 3,
   "metadata": {},
   "outputs": [],
   "source": [
    "def getDigits(l):\n",
    "    '''\n",
    "    Helper Method for Radix Sort\n",
    "    Find the number of digits in the largest number in the list\n",
    "    \n",
    "    Arguments \n",
    "    ---------\n",
    "    l: list\n",
    "       pre-sorted list\n",
    "       \n",
    "    Returns\n",
    "    ---------\n",
    "    str\n",
    "       number of digits in the largest number in the list\n",
    "    '''\n",
    "    ## current maximum number of digits\n",
    "    m = 0                                                            ## Steps: c1\n",
    "    \n",
    "    ## for each item in the list\n",
    "    for item in l:                                                   ## Steps: c2*n\n",
    "        m = max(item, m)                                             ## Steps: c3\n",
    "    \n",
    "    ## convert to a string and find the maximum number of digits d\n",
    "    return len(str(m))                                               ## Steps: c4*d \n",
    "\n",
    "    # T(n,d) for getDigits is O(n + d)\n",
    "\n",
    "def radixSort(l, numDigits):\n",
    "    '''\n",
    "    Do radix sort\n",
    "    \n",
    "    Arguments\n",
    "    ---------\n",
    "    l: list\n",
    "       pre-sorted list\n",
    "    \n",
    "    Returns\n",
    "    --------\n",
    "    list\n",
    "       sorted list       \n",
    "    '''\n",
    "    ## for the number of digits needed to represent the max value\n",
    "    for digit in range(0, numDigits):                               ## Steps: c1*d\n",
    "        \n",
    "        ## create a list of lists, where each list is a buck to store that\n",
    "        ## numeric positions number\n",
    "        intList = [[] for _ in range(10)]                           ## Steps: c2\n",
    "        \n",
    "        ## for each item find the number at the current numeric positon\n",
    "        for item in l:                                              ## Steps: c3*nd\n",
    "            num = item // 10**digit % 10                            ## Steps: c4*nd\n",
    "            intList[num].append(item)                               ## Steps: c5*nd\n",
    "            \n",
    "        ## update the list \n",
    "        l = list(chain(*intList))                                   ## Steps: c6*n\n",
    "        \n",
    "    return  l\n",
    "\n",
    "    # T(n) for radix sort is O(nd)"
   ]
  },
  {
   "cell_type": "code",
   "execution_count": 4,
   "metadata": {},
   "outputs": [],
   "source": [
    "def heapsort(iterable):\n",
    "    ## initialize an empty list\n",
    "    h = []                                                          # step = c\n",
    "    \n",
    "    ## for each value in the list\n",
    "    for value in iterable:                                          # step = O(n)\n",
    "        ## push that item onto the heap\n",
    "        ## Doing a lazy insert would be better here :)\n",
    "        hq.heappush(h, value)                                       # step = O(n log n), \n",
    "    ## return the list after removing the smallest item from the list\n",
    "    ## until the list is completely sorted\n",
    "    return [hq.heappop(h) for i in range(len(h))]                   # step = O(n log n)\n",
    "\n",
    "     # T(n) for heap sort is O(n log n) "
   ]
  },
  {
   "cell_type": "markdown",
   "metadata": {},
   "source": [
    "Main Method:\n",
    "Run trials comparing the runtime of sorting algorithms for different sized, randomly-initialized input lists"
   ]
  },
  {
   "cell_type": "code",
   "execution_count": 5,
   "metadata": {},
   "outputs": [
    {
     "data": {
      "text/plain": [
       "Text(0, 0.5, 'Runtime')"
      ]
     },
     "execution_count": 5,
     "metadata": {},
     "output_type": "execute_result"
    },
    {
     "data": {
      "image/png": "[encoded data removed]",
      "text/plain": [
       "<Figure size 640x480 with 1 Axes>"
      ]
     },
     "metadata": {},
     "output_type": "display_data"
    }
   ],
   "source": [
    "'''\n",
    "Run trials and record the runtimes of each sorting algorithm\n",
    "'''\n",
    "## record the time results\n",
    "radixTime = []\n",
    "heapTime  = []\n",
    "defaultTime = []\n",
    "insertionTime =[]\n",
    "\n",
    "size = 1200\n",
    "stepSize = 100\n",
    "## calculate the time required to sort various size lists\n",
    "for i in range(0, size, stepSize):\n",
    "    ## generate the random list\n",
    "    rList = random.sample(range(0, size), i)\n",
    "    \n",
    "    ## do the radix sort\n",
    "    start = time.perf_counter()\n",
    "    numDigits = getDigits(rList)\n",
    "    radixSort(rList, numDigits)\n",
    "    radixTime.append(time.perf_counter() - start)\n",
    "    \n",
    "    ## do the insertion sort\n",
    "    start = time.perf_counter()\n",
    "    insertionSort(rList)\n",
    "    insertionTime.append(time.perf_counter() - start)\n",
    "    \n",
    "    ## do the default python sort (Tim Sort)\n",
    "    start = time.perf_counter()\n",
    "    sorted(rList)\n",
    "    defaultTime.append(time.perf_counter() - start)\n",
    "\n",
    "## plot the results\n",
    "plt.plot(range(0, size, stepSize), radixTime, label = 'Radix')\n",
    "plt.plot(range(0, size, stepSize), insertionTime, label = 'Insertion')\n",
    "#plt.plot(range(0, size, stepSize), defaultTime, label = 'Default')\n",
    "plt.legend(frameon = 'none')\n",
    "plt.title('Time Comparison of Radix & Insertion Sort')\n",
    "plt.xlabel('List Size')\n",
    "plt.ylabel('Runtime')\n"
   ]
  },
  {
   "cell_type": "code",
   "execution_count": null,
   "metadata": {},
   "outputs": [],
   "source": []
  }
 ],
 "metadata": {
  "kernelspec": {
   "display_name": "Python 3 (ipykernel)",
   "language": "python",
   "name": "python3"
  },
  "language_info": {
   "codemirror_mode": {
    "name": "ipython",
    "version": 3
   },
   "file_extension": ".py",
   "mimetype": "text/x-python",
   "name": "python",
   "nbconvert_exporter": "python",
   "pygments_lexer": "ipython3",
   "version": "3.11.4"
  }
 },
 "nbformat": 4,
 "nbformat_minor": 4
}
