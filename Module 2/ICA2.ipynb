{
 "cells": [
  {
   "cell_type": "markdown",
   "id": "8f577358-5ded-43f9-b5b0-b7a0e7bbf82f",
   "metadata": {},
   "source": [
    "## ICA Module 2\n",
    "### Alanna Hazlett\n",
    "### September 11th, 2024"
   ]
  },
  {
   "cell_type": "markdown",
   "id": "8e221194-d97d-42a9-86b5-219b2476c2f2",
   "metadata": {},
   "source": [
    "### 1) Linear Search\n",
    "**a)** Given an unsorted list of integers [23, 1, 45, 34, 17], write a linear search algorithm to find the position of the number 34."
   ]
  },
  {
   "cell_type": "code",
   "execution_count": 37,
   "id": "b8aa8365-6fa4-476f-ae89-cf8628c0d1e1",
   "metadata": {},
   "outputs": [],
   "source": [
    "#Couldn't get this to work \n",
    "def linearsearch(A, num):\n",
    "    for item in range(len(A)):\n",
    "        if A[item] == num:\n",
    "            return item\n",
    "        else: \n",
    "            return False\n",
    "\n",
    "\n",
    "# Code Example from Geeks for Geeks: https://www.geeksforgeeks.org/python-program-for-linear-search/\n",
    "def linear_search_recursive(arr, target, index=0):\n",
    "    # Base case: If index reaches the end of the list\n",
    "    if index == len(arr):\n",
    "        return False  # Target not found\n",
    "    # If the target is found at the current index\n",
    "    if arr[index] == target:\n",
    "        return index  # Return the index of the target\n",
    "    # Recursive call to check the next element\n",
    "    return linear_search_recursive(arr, target, index + 1)"
   ]
  },
  {
   "cell_type": "code",
   "execution_count": 40,
   "id": "f15f525f-3774-4a9d-8425-3cef8bc1fc3c",
   "metadata": {},
   "outputs": [
    {
     "data": {
      "text/plain": [
       "0"
      ]
     },
     "execution_count": 40,
     "metadata": {},
     "output_type": "execute_result"
    }
   ],
   "source": [
    "linearsearch([23,1, 45, 34, 17], 23)"
   ]
  },
  {
   "cell_type": "code",
   "execution_count": 42,
   "id": "32654e9e-0be9-4e81-99e8-fa7dabc3f380",
   "metadata": {},
   "outputs": [
    {
     "data": {
      "text/plain": [
       "False"
      ]
     },
     "execution_count": 42,
     "metadata": {},
     "output_type": "execute_result"
    }
   ],
   "source": [
    "linearsearch([23,1, 45, 34, 17], 34)"
   ]
  },
  {
   "cell_type": "code",
   "execution_count": 41,
   "id": "9f4c0796-7daa-405f-9629-f04b61817c58",
   "metadata": {},
   "outputs": [
    {
     "data": {
      "text/plain": [
       "3"
      ]
     },
     "execution_count": 41,
     "metadata": {},
     "output_type": "execute_result"
    }
   ],
   "source": [
    "linear_search_recursive([23,1, 45, 34, 17], 34)"
   ]
  },
  {
   "cell_type": "markdown",
   "id": "ab062527-40b1-47a1-b011-3a0e71bafacc",
   "metadata": {},
   "source": [
    "**b)** Advantages:\n",
    "* easy to understand and implement \n",
    "* makes no assumptions of the list\n",
    "* if dataset is unsorted this is the only option\n",
    "\n",
    "**c)** Disadvantages:\n",
    "* takes longer time as data size increases\n",
    "\n",
    "**d)** Time Complexity = O(n)\n",
    "\n",
    "**e)** When to use this: \n",
    "* small datasets\n",
    "* If you only need to do a search once"
   ]
  },
  {
   "cell_type": "markdown",
   "id": "d772b26a-4853-4038-bd0a-dce2c79c86cd",
   "metadata": {},
   "source": [
    "### 2) Binary Search\n",
    "Key question: How long will it take to sort the data, if small enough time then binary search combined with sorting may be better than linear search. \n",
    "\n",
    "**a)** Given an unsorted list of integers  [1, 4, 7, 9, 15, 24, 30], write a binary search algorithm to find position of the number 15."
   ]
  },
  {
   "cell_type": "code",
   "execution_count": 43,
   "id": "642ae4c1-fde2-478d-8690-f2b52a77ea6b",
   "metadata": {},
   "outputs": [],
   "source": [
    "#Example code given by Geeks for Geeks: https://www.geeksforgeeks.org/python-program-for-binary-search/\n",
    "#Returns index number if present, otherwise false if not present\n",
    "def binary_search(arr, x):\n",
    "    low = 0\n",
    "    high = len(arr) - 1\n",
    "    mid = 0\n",
    "    while low <= high:\n",
    "        mid = (high + low) // 2\n",
    "        # If x is greater, ignore left half\n",
    "        if arr[mid] < x:\n",
    "            low = mid + 1\n",
    "        # If x is smaller, ignore right half\n",
    "        elif arr[mid] > x:\n",
    "            high = mid - 1\n",
    "        # means x is present at mid\n",
    "        else:\n",
    "            return mid\n",
    "    # If we reach here, then the element was not present\n",
    "    return False"
   ]
  },
  {
   "cell_type": "code",
   "execution_count": 25,
   "id": "454d3d17-dc97-4edd-817c-af2b9edcefe3",
   "metadata": {},
   "outputs": [
    {
     "data": {
      "text/plain": [
       "4"
      ]
     },
     "execution_count": 25,
     "metadata": {},
     "output_type": "execute_result"
    }
   ],
   "source": [
    "binary_search( [1, 4, 7, 9, 15, 24, 30], 15)"
   ]
  },
  {
   "cell_type": "markdown",
   "id": "9b16432e-85a5-48ab-94af-d33aa1d92bd0",
   "metadata": {},
   "source": [
    "**b)** Advantage:\n",
    "* Efficient, particularly with larger datasets\n",
    "\n",
    "**c)** Disadvantage\n",
    "* Requires that the data be sorted\n",
    "\n",
    "**d)** Time Complexity: O(log n)\n",
    "\n",
    "**e)** When to use this: \n",
    "* When the data is already sorted or when you need to sort the data only once, but can run the binary search multiple times. "
   ]
  },
  {
   "cell_type": "markdown",
   "id": "76816bdf-af0c-461d-acd8-a23f4e6d0923",
   "metadata": {},
   "source": [
    "### 3) Selection Sort \n",
    "Scan the list for smallest item put it at the beginning of the list then scan the remainder of the list and repeat. You always evaluate every element, so it doesn't matter if the list is sorted. \n",
    "**a)** Given an unsorted list [34, 17, 23, 1, 45], write a selection sort algorithm to sort the list."
   ]
  },
  {
   "cell_type": "code",
   "execution_count": 44,
   "id": "6438e8e6-5578-41cb-852a-747a20dc0e56",
   "metadata": {},
   "outputs": [],
   "source": [
    "def selectionsort(A):\n",
    "    for i in range(len(A)):\n",
    "        min_index = i\n",
    "        for j in range(i+1, len(A)):\n",
    "            if A[j] < A[min_index]:\n",
    "                min_index = j \n",
    "        temp = A[min_index]\n",
    "        A[min_index] = A[i]\n",
    "        A[i] = temp\n",
    "        #Another way to do it\n",
    "        #A[i], A[min_index] = A[min_index], A[i]\n",
    "    return A"
   ]
  },
  {
   "cell_type": "code",
   "execution_count": 45,
   "id": "783d3753-0f8f-4300-9136-271a7fd4f50a",
   "metadata": {},
   "outputs": [
    {
     "data": {
      "text/plain": [
       "[1, 17, 23, 34, 45]"
      ]
     },
     "execution_count": 45,
     "metadata": {},
     "output_type": "execute_result"
    }
   ],
   "source": [
    "selectionsort([34, 17, 23, 1, 45])"
   ]
  },
  {
   "cell_type": "markdown",
   "id": "fad10dff-56db-454e-9cd7-1926629118af",
   "metadata": {},
   "source": [
    "**b)** Advantages:\n",
    "\n",
    "**c)** Disadvantages:\n",
    "\n",
    "**d)** Time Complexity: O(n^2)\n",
    "\n",
    "**e)** When to use this: "
   ]
  },
  {
   "cell_type": "markdown",
   "id": "2897fec7-fe52-4c04-8948-2f7ebdfd9be5",
   "metadata": {},
   "source": [
    "### 4) Quick Sort \n",
    "**a)** Given an unsorted list [12, 4, 5, 6, 7, 3, 1, 15], write a quick sort algorithm to sort the list"
   ]
  },
  {
   "cell_type": "code",
   "execution_count": 46,
   "id": "f1064cdc-707b-433e-8be2-d312f31552ad",
   "metadata": {},
   "outputs": [],
   "source": [
    "def quicksort(arr):\n",
    "    if len(arr) <= 1:\n",
    "        return arr\n",
    "    else: \n",
    "        #you can choose anything for a pivot\n",
    "        pivot = arr[0]\n",
    "        left = [x for x in arr if x < pivot]\n",
    "        right = [x for x in arr if x> pivot]\n",
    "        mid = [x for x in arr if x == pivot] \n",
    "        return quicksort(left) + mid + quicksort(right)"
   ]
  },
  {
   "cell_type": "code",
   "execution_count": 47,
   "id": "de748d52-3272-4a83-8240-81ef2a6afd1b",
   "metadata": {},
   "outputs": [
    {
     "data": {
      "text/plain": [
       "[1, 3, 4, 5, 6, 7, 12, 15]"
      ]
     },
     "execution_count": 47,
     "metadata": {},
     "output_type": "execute_result"
    }
   ],
   "source": [
    "quicksort([12, 4, 5, 6, 7, 3, 1, 15])"
   ]
  },
  {
   "cell_type": "markdown",
   "id": "190c221a-b942-446f-9d44-5aac427428f0",
   "metadata": {},
   "source": [
    "**b)** Advantages:\n",
    "\n",
    "**c)** Disadvantages:\n",
    "\n",
    "**d)** Time Complexity:\n",
    "* O(n log n) for best case scenario\n",
    "* O(n^2) for worst case scenario - choosing bad pivot where all items in one list and none in the other.\n",
    "\n",
    "**e)** When to use this: "
   ]
  },
  {
   "cell_type": "markdown",
   "id": "561b6659-5269-47e0-a8a2-fc5c00f3ac8e",
   "metadata": {},
   "source": [
    "### Bonus: Insertion Sort\n",
    "**a)** Given an unsorted list [12, 4, 5, 6, 7, 3, 1, 15], write a insertion sort algorithm to sort the list"
   ]
  },
  {
   "cell_type": "code",
   "execution_count": 48,
   "id": "7f52c32f-44fd-4a0e-9e0a-e900baea762a",
   "metadata": {},
   "outputs": [],
   "source": [
    "def insert_sort(mylist):\n",
    "    n = len(mylist)\n",
    "    for j in range (1, n):\n",
    "        key = mylist[j]\n",
    "        i = j - 1 \n",
    "        while i >= 0 and key < mylist[i]:\n",
    "            mylist[i+1] = mylist[i]\n",
    "            i = i -1\n",
    "        mylist[i+1] = key\n",
    "    return mylist"
   ]
  },
  {
   "cell_type": "code",
   "execution_count": 49,
   "id": "a03e8e23-0ec2-426e-a512-72dec95c6f60",
   "metadata": {},
   "outputs": [
    {
     "data": {
      "text/plain": [
       "[1, 3, 4, 5, 6, 7, 12, 15]"
      ]
     },
     "execution_count": 49,
     "metadata": {},
     "output_type": "execute_result"
    }
   ],
   "source": [
    "insert_sort([12, 4, 5, 6, 7, 3, 1, 15])"
   ]
  },
  {
   "cell_type": "markdown",
   "id": "2e87ad74-e525-4088-bbfc-8a21e2fb6ff3",
   "metadata": {},
   "source": [
    "**b)** Advantages:\n",
    "\n",
    "**c)** Disadvantages:\n",
    "\n",
    "**d)** Time Complexity: \n",
    "* Best case: O(n)\n",
    "* Worst case: O(n^2)\n",
    "\n",
    "**e)** When to use this: \n",
    "* When a list is mostly/nearly sorted, because it will only look one element for each step if the next number is in the correct order."
   ]
  },
  {
   "cell_type": "markdown",
   "id": "d058128e-acf9-4c1e-8acb-be5a6cc226f8",
   "metadata": {},
   "source": [
    "### Bonus: Merge Sort\n",
    "**a)** Given an unsorted list [12, 4, 5, 6, 7, 3, 1, 15], write a merge sort algorithm to sort the list"
   ]
  },
  {
   "cell_type": "code",
   "execution_count": 62,
   "id": "c15263d6-1eea-4f19-bdf8-8098a55e5de9",
   "metadata": {},
   "outputs": [],
   "source": [
    "# Code example from Geeks for Geeks: https://www.geeksforgeeks.org/python-program-for-merge-sort/ \n",
    "def merge(arr, l, m, r):\n",
    "    # l is for left index and r is right index of the sub-array of arr to be sorted\n",
    "    n1 = m - l + 1\n",
    "    n2 = r - m\n",
    "    # create temp arrays\n",
    "    L = [0] * (n1)\n",
    "    R = [0] * (n2)\n",
    "    # Copy data to temp arrays L[] and R[]\n",
    "    for i in range(0, n1):\n",
    "        L[i] = arr[l + i]\n",
    "    for j in range(0, n2):\n",
    "        R[j] = arr[m + 1 + j]\n",
    "    # Merge the temp arrays back into arr[l..r]\n",
    "    i = 0     # Initial index of first subarray\n",
    "    j = 0     # Initial index of second subarray\n",
    "    k = l     # Initial index of merged subarray\n",
    "    while i < n1 and j < n2:\n",
    "        if L[i] <= R[j]:\n",
    "            arr[k] = L[i]\n",
    "            i += 1\n",
    "        else:\n",
    "            arr[k] = R[j]\n",
    "            j += 1\n",
    "        k += 1\n",
    "    # Copy the remaining elements of L[], if there\n",
    "    # are any\n",
    "    while i < n1:\n",
    "        arr[k] = L[i]\n",
    "        i += 1\n",
    "        k += 1\n",
    "    # Copy the remaining elements of R[], if there\n",
    "    # are any\n",
    "    while j < n2:\n",
    "        arr[k] = R[j]\n",
    "        j += 1\n",
    "        k += 1\n",
    "# l is for left index and r is right index of the\n",
    "# sub-array of arr to be sorted\n",
    " \n",
    " \n",
    "def mergeSort(arr, l, r):\n",
    "    if l < r:\n",
    "        # Same as (l+r)//2, but avoids overflow for\n",
    "        # large l and h\n",
    "        m = l+(r-l)//2\n",
    "        # Sort first and second halves\n",
    "        mergeSort(arr, l, m)\n",
    "        mergeSort(arr, m+1, r)\n",
    "        merge(arr, l, m, r)\n",
    "    return arr"
   ]
  },
  {
   "cell_type": "code",
   "execution_count": 63,
   "id": "90e5658b-fa94-4206-90cd-6da958210fb9",
   "metadata": {},
   "outputs": [
    {
     "data": {
      "text/plain": [
       "[1, 3, 4, 5, 6, 7, 12, 15]"
      ]
     },
     "execution_count": 63,
     "metadata": {},
     "output_type": "execute_result"
    }
   ],
   "source": [
    "mergeSort([12, 4, 5, 6, 7, 3, 1, 15], 0, 7)"
   ]
  },
  {
   "cell_type": "code",
   "execution_count": 64,
   "id": "346f910e-1072-4cd0-89cc-342678210d7f",
   "metadata": {},
   "outputs": [
    {
     "data": {
      "text/plain": [
       "[3, 5, 8, 8, 12, 22, 34, 46, 56, 84]"
      ]
     },
     "execution_count": 64,
     "metadata": {},
     "output_type": "execute_result"
    }
   ],
   "source": [
    "mergeSort([22,34,56,8,12,46,84,3,5,8], 0, 9)"
   ]
  },
  {
   "cell_type": "code",
   "execution_count": 65,
   "id": "91de45b4-a546-42eb-aecc-e9d20916a8fa",
   "metadata": {},
   "outputs": [],
   "source": [
    "def mergeSort(arr, left, right):\n",
    "    '''\n",
    "    INPUTS:\n",
    "    arr - the entire array,\n",
    "    left - the left index of the array,\n",
    "    right - the right index of the array.\n",
    "    OUTPUTS:\n",
    "    arr - the entire array sorted in ascending order\n",
    "    '''\n",
    "    if left < right:\n",
    "        middle = left + (right - left) // 2 \n",
    "        #sort left half\n",
    "        mergeSort(arr, left, middle)\n",
    "        #sort right half\n",
    "        mergeSort(arr, middle + 1, right)\n",
    "        merge(arr, left, middle, right)\n",
    "    return arr\n",
    "\n",
    "\n",
    "def merge(arr, left, middle, right):\n",
    "    '''\n",
    "    INPUTS: \n",
    "    array - the entire array\n",
    "    left - the left index of the array\n",
    "    middle - the middle index of the array\n",
    "    right - the right index of the array\n",
    "    '''\n",
    "    # determine lengths of left and right halves\n",
    "    left_n = middle - left + 1\n",
    "    right_n = right - middle \n",
    "    left_arr = [0] * left_n\n",
    "    right_arr = [0] * right_n\n",
    "    for i in range(left_n):\n",
    "        left_arr[i] = arr[left + i] \n",
    "    for j in range(right_n):\n",
    "        right_arr[j] = arr[middle + 1 + j]\n",
    "    i = 0 \n",
    "    j = 0\n",
    "    while i < left_n and j< right_n:\n",
    "        if left_arr[i] <= right_arr[j]:\n",
    "            arr[left] = left_arr[i]\n",
    "            i += 1\n",
    "        else:\n",
    "            arr[left] = right_arr[j]\n",
    "            j += 1\n",
    "        left += 1\n",
    "    while i < left_n:\n",
    "        arr[left] = left_arr[i]\n",
    "        i += 1\n",
    "        left += 1 \n",
    "    while j< right_n:\n",
    "        arr[left] = right_arr[j]\n",
    "        j += 1\n",
    "        left += 1 "
   ]
  },
  {
   "cell_type": "code",
   "execution_count": 66,
   "id": "cce36ed6-f6a5-4b33-92d1-b5b3762ba8e6",
   "metadata": {},
   "outputs": [
    {
     "data": {
      "text/plain": [
       "[1, 3, 4, 5, 6, 7, 12, 15]"
      ]
     },
     "execution_count": 66,
     "metadata": {},
     "output_type": "execute_result"
    }
   ],
   "source": [
    "mergeSort([12, 4, 5, 6, 7, 3, 1, 15], 0, 7)"
   ]
  },
  {
   "cell_type": "markdown",
   "id": "6e81e36f-6f8f-4c64-b370-9782237db22b",
   "metadata": {},
   "source": [
    "**b)** Advantages:\n",
    "\n",
    "**c)** Disadvantages:\n",
    "\n",
    "**d)** Time Complexity: O(n log n)\n",
    "* Merging sorted lists is a O(n) operation - when two groups are each sorted, in order to figure out what is the smallest among the two groups we only need to compare the first element from each group. Same for the largest element.\n",
    "* depth of the tree is O(log n) and then merging is O(n)\n",
    "\n",
    "**e)** When to use this: "
   ]
  },
  {
   "cell_type": "markdown",
   "id": "4bb9442f-e6d4-475b-a2df-281293c2f224",
   "metadata": {},
   "source": [
    "### 5) Shell Sort \n",
    "**a)** General Description of the algorithm:\n",
    "We have a separater parameter like n/2, so we divide our list into pairings. A list of length 8 has 4 groups. Insert sort each pairing. \n",
    "\n",
    "Then n/4, so list of 8 has 2 groups. Insert sort for each group.\n",
    "\n",
    "Then n/8, so list of 8 has 1 group. Insert sort for the group. \n",
    "\n",
    "**b)** Advantage: \n",
    "* Handling long distance jumps\n",
    "\n",
    "**c)** Disadvantage:\n",
    "* Time complexity is probably worse case when it is completely random data, very not sorted.\n",
    "\n",
    "**d)** Complexity:\n",
    "Hint: (Insertion sort for best case is O(n)) - so we know it is going to be greater than this. The number of groups for list become half of the size in each step. This is a divide and conquer method. \n",
    "* Best case scenario: O(n log n)\n",
    "* Worst case scenario: O(n^2)\n",
    "  \n",
    "**e)** When to use the algorithm: \n",
    "* Data has some pattern, such that it would be lower complexity, best case scenario during the insertion step, but the list as a whole would be inefficient as insertion sort. \n",
    "* We know that the list isn't nearly sorted because then we would just use insertion sort.\n",
    "* Larger datasets, because we don't do neighbor to neighbor or element to element checks. "
   ]
  },
  {
   "cell_type": "markdown",
   "id": "ef5c963c-48c9-4914-b3b7-a1d1fc922677",
   "metadata": {},
   "source": [
    "### Other notes from lecture: \n",
    "Look up (indexing) is a O(1) operation.\n",
    "Appending to an item is a O(n) operation, because we have to create entirely new array in memory of the new length, adding element by element. \n",
    "\n",
    "Linked lists - instead of creating a new array in memory for addition, we just point to each item in memory. \n",
    "\n",
    "Python doesn't actually have lists, they are dynamic arrays. \n",
    "Python saves time and utlizes more memory. Creates in increments of 4, so easy to add 3rd or 4th item, but the 5th item it will add another set of 4 items.  "
   ]
  },
  {
   "cell_type": "code",
   "execution_count": null,
   "id": "387ce8c9-cb1a-4d3d-ad53-74e5eb7d0149",
   "metadata": {},
   "outputs": [],
   "source": []
  }
 ],
 "metadata": {
  "kernelspec": {
   "display_name": "Python 3 (ipykernel)",
   "language": "python",
   "name": "python3"
  },
  "language_info": {
   "codemirror_mode": {
    "name": "ipython",
    "version": 3
   },
   "file_extension": ".py",
   "mimetype": "text/x-python",
   "name": "python",
   "nbconvert_exporter": "python",
   "pygments_lexer": "ipython3",
   "version": "3.11.4"
  }
 },
 "nbformat": 4,
 "nbformat_minor": 5
}
