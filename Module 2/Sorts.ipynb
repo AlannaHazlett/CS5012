{
 "cells": [
  {
   "cell_type": "code",
   "execution_count": 34,
   "id": "0c5ee2b2-24fb-4e90-865e-49fabb519180",
   "metadata": {},
   "outputs": [],
   "source": [
    "def MergeSort(list, first, last):\n",
    "    if first < last:\n",
    "        mid = (first + last) / 2\n",
    "        MergeSort(list, first, mid)\n",
    "        MergeSort(list, mid + 1, last)\n",
    "        merge(list, first, mid, last)\n",
    "    return list\n",
    "\n",
    "\n",
    "def merge( A, B, C):\n",
    "    if len(A) == 0: \n",
    "        for i in B:\n",
    "            C.append(i)\n",
    "    elif len(B) == 0: \n",
    "        for i in A:\n",
    "            C.append(i)\n",
    "    elif A[0] < B[0]:\n",
    "        C.append(A[0])\n",
    "        A.pop(0)\n",
    "        merge(A, B, C)\n",
    "    else:\n",
    "        C.append(B[0])\n",
    "        B.pop(0)\n",
    "        merge(A, B, C)\n",
    "    return C"
   ]
  },
  {
   "cell_type": "code",
   "execution_count": 35,
   "id": "401645ef-a438-41be-ae57-77e30b7b19a0",
   "metadata": {},
   "outputs": [
    {
     "data": {
      "text/plain": [
       "[7, 8, 9, 0, 1, 2, 3, 4, 5, 6]"
      ]
     },
     "execution_count": 35,
     "metadata": {},
     "output_type": "execute_result"
    }
   ],
   "source": [
    "merge([0,1,2,3], [4,5,6], [7,8,9])"
   ]
  },
  {
   "cell_type": "code",
   "execution_count": 59,
   "id": "a22da95f-5bf4-49c8-ac45-989eabbf73b3",
   "metadata": {},
   "outputs": [
    {
     "ename": "TypeError",
     "evalue": "merge() takes 3 positional arguments but 4 were given",
     "output_type": "error",
     "traceback": [
      "\u001b[0;31m---------------------------------------------------------------------------\u001b[0m",
      "\u001b[0;31mTypeError\u001b[0m                                 Traceback (most recent call last)",
      "Cell \u001b[0;32mIn[59], line 1\u001b[0m\n\u001b[0;32m----> 1\u001b[0m \u001b[43mMergeSort\u001b[49m\u001b[43m(\u001b[49m\u001b[43m[\u001b[49m\u001b[38;5;241;43m12\u001b[39;49m\u001b[43m,\u001b[49m\u001b[43m \u001b[49m\u001b[38;5;241;43m4\u001b[39;49m\u001b[43m,\u001b[49m\u001b[43m \u001b[49m\u001b[38;5;241;43m5\u001b[39;49m\u001b[43m,\u001b[49m\u001b[43m \u001b[49m\u001b[38;5;241;43m6\u001b[39;49m\u001b[43m,\u001b[49m\u001b[43m \u001b[49m\u001b[38;5;241;43m7\u001b[39;49m\u001b[43m,\u001b[49m\u001b[43m \u001b[49m\u001b[38;5;241;43m3\u001b[39;49m\u001b[43m,\u001b[49m\u001b[43m \u001b[49m\u001b[38;5;241;43m1\u001b[39;49m\u001b[43m,\u001b[49m\u001b[43m \u001b[49m\u001b[38;5;241;43m15\u001b[39;49m\u001b[43m]\u001b[49m\u001b[43m,\u001b[49m\u001b[43m \u001b[49m\u001b[38;5;241;43m0\u001b[39;49m\u001b[43m,\u001b[49m\u001b[43m \u001b[49m\u001b[38;5;241;43m7\u001b[39;49m\u001b[43m)\u001b[49m\n",
      "Cell \u001b[0;32mIn[34], line 4\u001b[0m, in \u001b[0;36mMergeSort\u001b[0;34m(list, first, last)\u001b[0m\n\u001b[1;32m      2\u001b[0m \u001b[38;5;28;01mif\u001b[39;00m first \u001b[38;5;241m<\u001b[39m last:\n\u001b[1;32m      3\u001b[0m     mid \u001b[38;5;241m=\u001b[39m (first \u001b[38;5;241m+\u001b[39m last) \u001b[38;5;241m/\u001b[39m \u001b[38;5;241m2\u001b[39m\n\u001b[0;32m----> 4\u001b[0m     \u001b[43mMergeSort\u001b[49m\u001b[43m(\u001b[49m\u001b[38;5;28;43mlist\u001b[39;49m\u001b[43m,\u001b[49m\u001b[43m \u001b[49m\u001b[43mfirst\u001b[49m\u001b[43m,\u001b[49m\u001b[43m \u001b[49m\u001b[43mmid\u001b[49m\u001b[43m)\u001b[49m\n\u001b[1;32m      5\u001b[0m     MergeSort(\u001b[38;5;28mlist\u001b[39m, mid \u001b[38;5;241m+\u001b[39m \u001b[38;5;241m1\u001b[39m, last)\n\u001b[1;32m      6\u001b[0m     merge(\u001b[38;5;28mlist\u001b[39m, first, mid, last)\n",
      "Cell \u001b[0;32mIn[34], line 4\u001b[0m, in \u001b[0;36mMergeSort\u001b[0;34m(list, first, last)\u001b[0m\n\u001b[1;32m      2\u001b[0m \u001b[38;5;28;01mif\u001b[39;00m first \u001b[38;5;241m<\u001b[39m last:\n\u001b[1;32m      3\u001b[0m     mid \u001b[38;5;241m=\u001b[39m (first \u001b[38;5;241m+\u001b[39m last) \u001b[38;5;241m/\u001b[39m \u001b[38;5;241m2\u001b[39m\n\u001b[0;32m----> 4\u001b[0m     \u001b[43mMergeSort\u001b[49m\u001b[43m(\u001b[49m\u001b[38;5;28;43mlist\u001b[39;49m\u001b[43m,\u001b[49m\u001b[43m \u001b[49m\u001b[43mfirst\u001b[49m\u001b[43m,\u001b[49m\u001b[43m \u001b[49m\u001b[43mmid\u001b[49m\u001b[43m)\u001b[49m\n\u001b[1;32m      5\u001b[0m     MergeSort(\u001b[38;5;28mlist\u001b[39m, mid \u001b[38;5;241m+\u001b[39m \u001b[38;5;241m1\u001b[39m, last)\n\u001b[1;32m      6\u001b[0m     merge(\u001b[38;5;28mlist\u001b[39m, first, mid, last)\n",
      "    \u001b[0;31m[... skipping similar frames: MergeSort at line 4 (1074 times)]\u001b[0m\n",
      "Cell \u001b[0;32mIn[34], line 4\u001b[0m, in \u001b[0;36mMergeSort\u001b[0;34m(list, first, last)\u001b[0m\n\u001b[1;32m      2\u001b[0m \u001b[38;5;28;01mif\u001b[39;00m first \u001b[38;5;241m<\u001b[39m last:\n\u001b[1;32m      3\u001b[0m     mid \u001b[38;5;241m=\u001b[39m (first \u001b[38;5;241m+\u001b[39m last) \u001b[38;5;241m/\u001b[39m \u001b[38;5;241m2\u001b[39m\n\u001b[0;32m----> 4\u001b[0m     \u001b[43mMergeSort\u001b[49m\u001b[43m(\u001b[49m\u001b[38;5;28;43mlist\u001b[39;49m\u001b[43m,\u001b[49m\u001b[43m \u001b[49m\u001b[43mfirst\u001b[49m\u001b[43m,\u001b[49m\u001b[43m \u001b[49m\u001b[43mmid\u001b[49m\u001b[43m)\u001b[49m\n\u001b[1;32m      5\u001b[0m     MergeSort(\u001b[38;5;28mlist\u001b[39m, mid \u001b[38;5;241m+\u001b[39m \u001b[38;5;241m1\u001b[39m, last)\n\u001b[1;32m      6\u001b[0m     merge(\u001b[38;5;28mlist\u001b[39m, first, mid, last)\n",
      "Cell \u001b[0;32mIn[34], line 6\u001b[0m, in \u001b[0;36mMergeSort\u001b[0;34m(list, first, last)\u001b[0m\n\u001b[1;32m      4\u001b[0m     MergeSort(\u001b[38;5;28mlist\u001b[39m, first, mid)\n\u001b[1;32m      5\u001b[0m     MergeSort(\u001b[38;5;28mlist\u001b[39m, mid \u001b[38;5;241m+\u001b[39m \u001b[38;5;241m1\u001b[39m, last)\n\u001b[0;32m----> 6\u001b[0m     \u001b[43mmerge\u001b[49m\u001b[43m(\u001b[49m\u001b[38;5;28;43mlist\u001b[39;49m\u001b[43m,\u001b[49m\u001b[43m \u001b[49m\u001b[43mfirst\u001b[49m\u001b[43m,\u001b[49m\u001b[43m \u001b[49m\u001b[43mmid\u001b[49m\u001b[43m,\u001b[49m\u001b[43m \u001b[49m\u001b[43mlast\u001b[49m\u001b[43m)\u001b[49m\n\u001b[1;32m      7\u001b[0m \u001b[38;5;28;01mreturn\u001b[39;00m\n",
      "\u001b[0;31mTypeError\u001b[0m: merge() takes 3 positional arguments but 4 were given"
     ]
    }
   ],
   "source": [
    "MergeSort([12, 4, 5, 6, 7, 3, 1, 15], 0, 7)"
   ]
  },
  {
   "cell_type": "code",
   "execution_count": 17,
   "id": "f9a1be4c-e572-471f-9093-bee976e073e3",
   "metadata": {},
   "outputs": [],
   "source": [
    "def insert_sort(mylist):\n",
    "    n = len(mylist)\n",
    "    for j in range (1, n):\n",
    "        key = mylist[j]\n",
    "        i = j - 1 \n",
    "        while i >= 0 and key < mylist[i]:\n",
    "            mylist[i+1] = mylist[i]\n",
    "            i = i -1\n",
    "        mylist[i+1] = key\n",
    "    return mylist"
   ]
  },
  {
   "cell_type": "code",
   "execution_count": 18,
   "id": "9877337f-2503-4dda-92ad-1d49b6876835",
   "metadata": {},
   "outputs": [
    {
     "data": {
      "text/plain": [
       "[20, 29, 34, 64, 73]"
      ]
     },
     "execution_count": 18,
     "metadata": {},
     "output_type": "execute_result"
    }
   ],
   "source": [
    "insert_sort([29, 20, 73, 34, 64])"
   ]
  },
  {
   "cell_type": "code",
   "execution_count": 38,
   "id": "deb3e029-31cf-4054-a075-6d6c2b3afd59",
   "metadata": {},
   "outputs": [],
   "source": [
    "def bubblesort(A):\n",
    "'''\n",
    "For each element at index i from 0\n",
    "to n, loop:\n",
    "For each element at index j, from n\n",
    "to i exclusive, loop:\n",
    "If the element at k is less than that at\n",
    "j-1, swap them\n",
    "'''\n",
    "\n",
    "    \n",
    "    for i in range(len(A)):\n",
    "        for j in range(len(A)-1,i,-1):\n",
    "            if A[j] < A[j-1]:\n",
    "                temp = A[j]\n",
    "                A[j] = A[j-1]\n",
    "                A[j-1] = temp\n",
    "    return A"
   ]
  },
  {
   "cell_type": "code",
   "execution_count": 39,
   "id": "34c9951e-f8f8-4d68-8381-2be5f89d8412",
   "metadata": {},
   "outputs": [
    {
     "data": {
      "text/plain": [
       "[0, 1, 2, 3, 4, 5, 6, 7, 8, 9]"
      ]
     },
     "execution_count": 39,
     "metadata": {},
     "output_type": "execute_result"
    }
   ],
   "source": [
    "bubblesort([7, 8, 9, 0, 1, 2, 3, 4, 5, 6])"
   ]
  },
  {
   "cell_type": "code",
   "execution_count": 44,
   "id": "bd19aac3-aee4-496a-a6c0-e2300e0286e1",
   "metadata": {},
   "outputs": [],
   "source": [
    "def selectionsort(A):\n",
    "    for i in range(len(A)):\n",
    "        min_index = i\n",
    "        for j in range(i+1, len(A)):\n",
    "            if A[j] < A[min_index]:\n",
    "                min_index = j \n",
    "        temp = A[min_index]\n",
    "        A[min_index] = A[i]\n",
    "        A[i] = temp\n",
    "        #A[i], A[min_index] = A[min_index], A[i]\n",
    "    return A"
   ]
  },
  {
   "cell_type": "code",
   "execution_count": 45,
   "id": "51111865-c260-42ee-ad71-700d0fa8d9f0",
   "metadata": {},
   "outputs": [
    {
     "data": {
      "text/plain": [
       "[0, 1, 2, 3, 4, 5, 6, 7, 8, 9]"
      ]
     },
     "execution_count": 45,
     "metadata": {},
     "output_type": "execute_result"
    }
   ],
   "source": [
    "selectionsort([7, 8, 9, 0, 1, 2, 3, 4, 5, 6])"
   ]
  },
  {
   "cell_type": "code",
   "execution_count": 46,
   "id": "071bbd27-8eb2-46b9-bbc0-0c3172dd2626",
   "metadata": {},
   "outputs": [
    {
     "data": {
      "text/plain": [
       "[20, 29, 34, 64, 73]"
      ]
     },
     "execution_count": 46,
     "metadata": {},
     "output_type": "execute_result"
    }
   ],
   "source": [
    "selectionsort([29, 20, 73, 34, 64])"
   ]
  },
  {
   "cell_type": "code",
   "execution_count": 48,
   "id": "c9e38356-add2-457c-b378-4b458e44287c",
   "metadata": {},
   "outputs": [],
   "source": [
    "def quicksort(A, pivot, r):\n",
    "'''\n",
    "A - list\n",
    "pivot - number approximately in the middle of the list\n",
    "r - length of list\n",
    "'''\n",
    "    if pivot < r:\n",
    "        q = partition(A, pivot, r)\n",
    "        quicksort(A, pivot, q-1)\n",
    "        quicksort(A, q+1, r)\n",
    "\n",
    "\n",
    "def partition(A, pivot, r):\n",
    "    x = A[r]\n",
    "    i = pivot - 1\n",
    "    for j in range( p, r-1):\n",
    "        if A[j] <= x:\n",
    "            i = i + 1\n",
    "            temp = A[i]\n",
    "            A[i] = A[j]\n",
    "            A[j] = temp\n",
    "    temp2 = A[i+1]\n",
    "    A[i+1] = A[r]\n",
    "    A[r] = temp\n",
    "    return i + 1\n",
    "        "
   ]
  },
  {
   "cell_type": "code",
   "execution_count": 52,
   "id": "ea564eb6-2ba2-4aee-9e2f-af238e39df00",
   "metadata": {},
   "outputs": [],
   "source": [
    "quicksort([29, 20, 73, 34, 64], 30, 5)"
   ]
  },
  {
   "cell_type": "code",
   "execution_count": 56,
   "id": "0a77537a-73d9-41f9-842d-0e14893e5edb",
   "metadata": {},
   "outputs": [],
   "source": [
    "#Quick sort Alg from class\n",
    "def quicksort(arr):\n",
    "    if len(arr) <= 1:\n",
    "        return arr\n",
    "    else: \n",
    "        #you can choose anything for a pivot\n",
    "        pivot = arr[0]\n",
    "        left = [x for x in arr if x < pivot]\n",
    "        right = [x for x in arr if x> pivot]\n",
    "        mid = [x for x in arr if x == pivot] \n",
    "        return quicksort(left) + mid + quicksort(right)"
   ]
  },
  {
   "cell_type": "code",
   "execution_count": 53,
   "id": "e5ad51f2-8280-4735-9b2e-97c74a84ce7c",
   "metadata": {},
   "outputs": [],
   "source": [
    "# Function to find the partition position  - geek for geeks \n",
    "def partition(array, low, high):\n",
    "\n",
    "    # choose the rightmost element as pivot\n",
    "    pivot = array[high]\n",
    "\n",
    "    # pointer for greater element\n",
    "    i = low - 1\n",
    "\n",
    "    # traverse through all elements\n",
    "    # compare each element with pivot\n",
    "    for j in range(low, high):\n",
    "        if array[j] <= pivot:\n",
    "            # If element smaller than pivot is found\n",
    "            # swap it with the greater element pointed by i\n",
    "            i = i + 1\n",
    "            # Swapping element at i with element at j\n",
    "            (array[i], array[j]) = (array[j], array[i])\n",
    "    # Swap the pivot element with the greater element specified by i\n",
    "    (array[i + 1], array[high]) = (array[high], array[i + 1])\n",
    "    # Return the position from where partition is done\n",
    "    return i + 1\n",
    "\n",
    "# function to perform quicksort\n",
    "def quickSort(array, low, high):\n",
    "    if low < high:\n",
    "        # Find pivot element such that\n",
    "        # element smaller than pivot are on the left\n",
    "        # element greater than pivot are on the right\n",
    "        pi = partition(array, low, high)\n",
    "        # Recursive call on the left of pivot\n",
    "        quickSort(array, low, pi - 1)\n",
    "        # Recursive call on the right of pivot\n",
    "        quickSort(array, pi + 1, high)\n"
   ]
  },
  {
   "cell_type": "code",
   "execution_count": 55,
   "id": "b6a5bbb8-4c5e-40e4-b303-ed48990ffb3b",
   "metadata": {},
   "outputs": [],
   "source": [
    "quicksort([67,9,23,45,78,5], 0, 5)"
   ]
  },
  {
   "cell_type": "code",
   "execution_count": null,
   "id": "a4762c6e-f49a-40b4-b1a3-1b3fbaf5f18c",
   "metadata": {},
   "outputs": [],
   "source": []
  }
 ],
 "metadata": {
  "kernelspec": {
   "display_name": "Python 3 (ipykernel)",
   "language": "python",
   "name": "python3"
  },
  "language_info": {
   "codemirror_mode": {
    "name": "ipython",
    "version": 3
   },
   "file_extension": ".py",
   "mimetype": "text/x-python",
   "name": "python",
   "nbconvert_exporter": "python",
   "pygments_lexer": "ipython3",
   "version": "3.11.4"
  }
 },
 "nbformat": 4,
 "nbformat_minor": 5
}
