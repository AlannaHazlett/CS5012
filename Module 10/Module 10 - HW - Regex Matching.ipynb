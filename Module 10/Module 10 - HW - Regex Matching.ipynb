{
 "cells": [
  {
   "cell_type": "markdown",
   "metadata": {},
   "source": [
    "## Homework: Regular Expressions\n",
    "\n",
    "\n",
    "### University of Virginia\n",
    "### Foundations of Computer Science\n",
    "### Last Updated: November 13, 2021\n",
    "\n",
    "\n",
    "#### Alanna Hazlett\n",
    "#### uwa6xv\n",
    "#### November 9th, 2024\n",
    "---"
   ]
  },
  {
   "cell_type": "markdown",
   "metadata": {},
   "source": [
    "### Objectives: \n",
    "- Practice writing and testing regular expressions\n",
    "\n",
    "### Executive Summary\n",
    "\n",
    "\n",
    "There are two short text documents in this notebook. You will write regular expressions to find certain patterns.  \n",
    "\n",
    "Note: This website is a helpful resource for writing and testing regexes: [regex101](https://regex101.com/)"
   ]
  },
  {
   "cell_type": "markdown",
   "metadata": {},
   "source": [
    "### Instructions\n",
    "\n",
    "Answer the questions, showing all code and results.  \n",
    "When the file is completed, submit the notebook through Canvas.\n",
    "\n",
    "**Notes:**  \n",
    "1) When instructions ask for a case insensitive match on a word or phrase, any mix of uppercase and lowercase characters are a match.  \n",
    "2) The regexes do not need to be robust generally. They simply need to find all the matches in the documents. For example, when matching dollar amounts,  \n",
    "   the regex does not need to guard against matching invald forms such as $61,0 as they are not in the documents. \n",
    "\n",
    "**TOTAL POINTS: 12**\n",
    "\n",
    "---\n"
   ]
  },
  {
   "cell_type": "code",
   "execution_count": 1,
   "metadata": {},
   "outputs": [],
   "source": [
    "import re"
   ]
  },
  {
   "cell_type": "markdown",
   "metadata": {},
   "source": [
    "#### DOCUMENTS FOR SEARCH"
   ]
  },
  {
   "cell_type": "code",
   "execution_count": 2,
   "metadata": {},
   "outputs": [],
   "source": [
    "doc1 = \"(CNN) This is an article about America's Workers. Getting family health insurance on the job now costs workers and their employers more than $22,000 a year, on average. And companies have not been able to do much to make coverage more affordable, even though the coronavirus pandemic has reinforced the importance of health benefits.\\\n",
    "Employees foot about $6,000 of the tab, while companies pick up the rest, according to the 2021 Kaiser Family Foundation Employer Health Benefits Survey. The report, released Wednesday, found that the average annual premium rose 4% this year to $22,221.\\\n",
    "The average annual premium for a single staffer in 2021 hit $7,739, also up 4%. Workers pay about $1,300, and employers cover the remaining tab.\\\n",
    "About 155 million Americans rely on employer-sponsored coverage -- and they are paying a lot more for that benefit than they were a decade ago. The average family premium has increased 47%, more than wages or inflation, which rose 31% and 19%, respectively, Kaiser found.\\\n",
    "The average count is 21,000.\""
   ]
  },
  {
   "cell_type": "code",
   "execution_count": 3,
   "metadata": {},
   "outputs": [],
   "source": [
    "doc2 = \"Curry reacts in the second half against the Chicago Bulls. (CNN)It seems every week NBA superstar Steph Curry is making history.\\\n",
    "Earlier this week, he overtook Wilt Chamberlain to become the oldest player to record 50 points and 10 assists in a game.\\\n",
    "And on Friday night, the 33-year-old passed basketball great Ray Allen for the most three-pointers scored in all NBA games, including playoffs, in NBA history.\\\n",
    "Curry connected with nine of his 17 three-point attempts in the Golden State Warriors' 119-93 win over the Chicago Bulls, taking his tally in regular season and playoff games to 3,366, surpassing Allen's total of 3,358.\\\n",
    "He had come into the game just one behind two-time NBA champion Allen and equaled his record within the first few minutes of the game.\\\n",
    "And he became the all-time lead just minutes later, drilling a long-range effort over Alex Caruso.\""
   ]
  },
  {
   "cell_type": "markdown",
   "metadata": {},
   "source": [
    "---"
   ]
  },
  {
   "cell_type": "markdown",
   "metadata": {},
   "source": [
    "#### 1) (1 POINT) Search *doc1* for the word 'family', print the matches, and print the number of matches."
   ]
  },
  {
   "cell_type": "markdown",
   "metadata": {},
   "source": [
    "Keeping these just for my own personal notes:"
   ]
  },
  {
   "cell_type": "code",
   "execution_count": 4,
   "metadata": {},
   "outputs": [],
   "source": [
    "#re.search will return the first instance of a match\n",
    "# match = re.search(\"family\",doc1)\n",
    "# if match:\n",
    "#     print(match)"
   ]
  },
  {
   "cell_type": "code",
   "execution_count": 5,
   "metadata": {},
   "outputs": [],
   "source": [
    "# print(match.group())\n",
    "# print(match.start())\n",
    "# print(match.start())\n",
    "# print(match.span())"
   ]
  },
  {
   "cell_type": "code",
   "execution_count": 6,
   "metadata": {},
   "outputs": [],
   "source": [
    "#finditer returns an iterator object\n",
    "# all_matches = re.finditer(\"family\",doc1)\n",
    "# for match in all_matches:   \n",
    "#     print(match.group(), match.span())\n",
    "# all_matches"
   ]
  },
  {
   "cell_type": "markdown",
   "metadata": {},
   "source": [
    "The actual answer to the question:"
   ]
  },
  {
   "cell_type": "code",
   "execution_count": 7,
   "metadata": {},
   "outputs": [
    {
     "name": "stdout",
     "output_type": "stream",
     "text": [
      "The matches are ['family', 'family'] of which, there are 2 matches.\n"
     ]
    }
   ],
   "source": [
    "#Find all does indeed find all matches. It returns a list object of strings of the group (match). \n",
    "family_matches = re.findall(\"family\",doc1)\n",
    "print(\"The matches are\", family_matches, \"of which, there are\", len(family_matches), \"matches.\")"
   ]
  },
  {
   "cell_type": "markdown",
   "metadata": {},
   "source": [
    "#### 2) (2 POINTS) Search *doc1* for the first occurrence of the word \"workers\" (case insensitive).  \n",
    "####    If it finds a match, use the start() and end() methods to extract the match from the document, printing the result."
   ]
  },
  {
   "cell_type": "code",
   "execution_count": 8,
   "metadata": {},
   "outputs": [
    {
     "name": "stdout",
     "output_type": "stream",
     "text": [
      "Workers 41 48\n"
     ]
    }
   ],
   "source": [
    "# First occurence means we want to use re.search()\n",
    "# (?-i) would cease the i modifier of case insensitivity\n",
    "match = re.search(\"(?i)workers\",doc1)\n",
    "if match:\n",
    "    print(match.group(), match.start(), match.end())"
   ]
  },
  {
   "cell_type": "markdown",
   "metadata": {},
   "source": [
    "#### 3) (1 POINT) Search *doc1* for the word 'family' (case insensitive), print the matches, and print the number of matches."
   ]
  },
  {
   "cell_type": "code",
   "execution_count": 9,
   "metadata": {},
   "outputs": [
    {
     "name": "stdout",
     "output_type": "stream",
     "text": [
      "The matches are ['family', 'Family', 'family'] of which, there are 3 matches.\n"
     ]
    }
   ],
   "source": [
    "family_matches = re.findall(\"(?i)family\",doc1)\n",
    "print(\"The matches are\", family_matches, \"of which, there are\", len(family_matches), \"matches.\")"
   ]
  },
  {
   "cell_type": "markdown",
   "metadata": {},
   "source": [
    "#### 4) (1 POINT) Search *doc1* for dollar amounts, print the matches, and print the number of matches. Dollar amounts start with \"$\" followed by digits and possibly commas.\n",
    "\n",
    "Note: \"$\" will have different meanings in a regex, so take care to use it properly in this context."
   ]
  },
  {
   "cell_type": "code",
   "execution_count": 10,
   "metadata": {},
   "outputs": [
    {
     "name": "stdout",
     "output_type": "stream",
     "text": [
      "The matches are ['$22,000', '$6,000', '$22,221', '$7,739', '$1,300'] of which, there are 5 matches.\n"
     ]
    }
   ],
   "source": [
    "# possibly commas means we need to take into account there may or may not be a comma this is taken into account using []? around the comma\n",
    "dollar_matches = re.findall(\"\\$\\d+[\\,]?\\d+\",doc1)\n",
    "print(\"The matches are\", dollar_matches, \"of which, there are\", len(dollar_matches), \"matches.\")"
   ]
  },
  {
   "cell_type": "markdown",
   "metadata": {},
   "source": [
    "#### 5) (2 POINTS) Search *doc1* for numbers that are not percentages nor dollar amounts. Print the matches, and print the number of matches.\n",
    "\n",
    "\n",
    "Examples:  \n",
    "55 is a match, and 55,000 is a match, and 55. is a match (the last could occur at the end of a sentence, for example.)  \n",
    "$55,000 is not a match, and 55% is not a match\n"
   ]
  },
  {
   "cell_type": "code",
   "execution_count": 11,
   "metadata": {},
   "outputs": [],
   "source": [
    "# This returns values that do associate with dollar amounts. \n",
    "# number_matches = re.findall(r\"\\b\\d+[,]?\\d+\\b\",doc1)\n",
    "# print(\"The matches are\", number_matches, \"of which, there are\", len(number_matches), \"matches.\")"
   ]
  },
  {
   "cell_type": "code",
   "execution_count": 12,
   "metadata": {},
   "outputs": [
    {
     "name": "stdout",
     "output_type": "stream",
     "text": [
      "The matches are [' 2021 ', ' 2021 ', ' 155 ', ' 21,000.'] of which, there are 4 matches.\n"
     ]
    }
   ],
   "source": [
    "# This returns numbers that are not associated with dollar amount or percentages. \n",
    "number_matches = re.findall(r\"\\s\\d+[,]?\\d+[.\\s]\",doc1)\n",
    "print(\"The matches are\", number_matches, \"of which, there are\", len(number_matches), \"matches.\")"
   ]
  },
  {
   "cell_type": "markdown",
   "metadata": {},
   "source": [
    "---"
   ]
  },
  {
   "cell_type": "markdown",
   "metadata": {},
   "source": [
    "#### The following questions ask you to search doc2.\n",
    "\n",
    "#### 6) (2 POINTS) Search *doc2* for two or more words (consisting of only letters) joined by dashes. Print the matches, and print the number of matches.\n",
    "\n",
    "Examples: \"twenty-year-old\" and \"all-star\"  \n",
    "Non-examples: '22-year' and '110-90' are not matches as they contain numbers\n"
   ]
  },
  {
   "cell_type": "code",
   "execution_count": 13,
   "metadata": {},
   "outputs": [],
   "source": [
    "# This doesn't work because w is word characters, which includes a-z, A-Z, 0-9, _\n",
    "# hyphen_matches = re.findall(r\"\\w+-\\w+\",doc2)\n",
    "# print(\"The matches are\", hyphen_matches, \"of which, there are\", len(hyphen_matches), \"matches.\")"
   ]
  },
  {
   "cell_type": "code",
   "execution_count": 14,
   "metadata": {},
   "outputs": [
    {
     "name": "stdout",
     "output_type": "stream",
     "text": [
      "The matches are ['year-old', 'three-pointers', 'three-point', 'two-time', 'all-time', 'long-range'] of which, there are 6 matches.\n"
     ]
    }
   ],
   "source": [
    "hyphen_matches = re.findall(r\"\\b[a-zA-Z]+-[a-zA-Z]+\\b\",doc2)\n",
    "print(\"The matches are\", hyphen_matches, \"of which, there are\", len(hyphen_matches), \"matches.\")"
   ]
  },
  {
   "cell_type": "markdown",
   "metadata": {},
   "source": [
    "#### 7) (1 POINT) Search *doc2* for all words starting with an uppercase letter.  Print the matches, and print the number of matches. "
   ]
  },
  {
   "cell_type": "code",
   "execution_count": 15,
   "metadata": {},
   "outputs": [
    {
     "name": "stdout",
     "output_type": "stream",
     "text": [
      "The matches are ['Curry', 'Chicago', 'Bulls', 'It', 'Steph', 'Curry', 'Earlier', 'Wilt', 'Chamberlain', 'And', 'Friday', 'Ray', 'Allen', 'Curry', 'Golden', 'State', 'Warriors', 'Chicago', 'Bulls', 'Allen', 'He', 'Allen', 'And', 'Alex', 'Caruso'] of which, there are 25 matches.\n"
     ]
    }
   ],
   "source": [
    "# This requires the * operator, because + is one or more, if the word was \"I\" it would be missed. * Is zero or more. \n",
    "upper_matches = re.findall(r\"\\b[A-Z][a-z]*\\b\",doc2)\n",
    "print(\"The matches are\", upper_matches, \"of which, there are\", len(upper_matches), \"matches.\")"
   ]
  },
  {
   "cell_type": "markdown",
   "metadata": {},
   "source": [
    "#### 8) (1 POINT) Search *doc2* for the word \"in.\" Print the matches, and print the number of matches. \n",
    "\n",
    "Example: \"Jordan is *in* the house  \n",
    "Non-example: Jordan is ready to win (careful not to match on the substring \"in\" in \"win\")"
   ]
  },
  {
   "cell_type": "code",
   "execution_count": 16,
   "metadata": {},
   "outputs": [
    {
     "name": "stdout",
     "output_type": "stream",
     "text": [
      "The matches are ['in', 'in', 'in', 'in', 'in', 'in'] of which, there are 6 matches.\n"
     ]
    }
   ],
   "source": [
    "in_matches = re.findall(r\"\\bin\\b\",doc2)\n",
    "print(\"The matches are\", in_matches, \"of which, there are\", len(in_matches), \"matches.\")"
   ]
  },
  {
   "cell_type": "markdown",
   "metadata": {},
   "source": [
    "#### 9) (1 POINT) Search *doc2* for a number followed by the word \"points.\"  \n",
    "####    Include capture groups in the regex to extract the number of points, and print the number.  \n",
    "####    Credit is only given if you use capture groups in this exercise.\n",
    "Hint: use the search() function.\n"
   ]
  },
  {
   "cell_type": "code",
   "execution_count": 17,
   "metadata": {},
   "outputs": [
    {
     "name": "stdout",
     "output_type": "stream",
     "text": [
      "50\n"
     ]
    }
   ],
   "source": [
    "points_match = re.search(\"(\\d+) (points)\",doc2)\n",
    "if points_match:\n",
    "    print(points_match.group(1))"
   ]
  },
  {
   "cell_type": "markdown",
   "metadata": {},
   "source": [
    "---  "
   ]
  },
  {
   "cell_type": "markdown",
   "metadata": {},
   "source": [
    "<div class=\"alert alert-block alert-info\">\n",
    "<b>I pledge that I have neither given nor received help on this assignment. : Alanna Hazlett </b>\n",
    "</div>"
   ]
  }
 ],
 "metadata": {
  "kernelspec": {
   "display_name": "Python 3 (ipykernel)",
   "language": "python",
   "name": "python3"
  },
  "language_info": {
   "codemirror_mode": {
    "name": "ipython",
    "version": 3
   },
   "file_extension": ".py",
   "mimetype": "text/x-python",
   "name": "python",
   "nbconvert_exporter": "python",
   "pygments_lexer": "ipython3",
   "version": "3.11.4"
  }
 },
 "nbformat": 4,
 "nbformat_minor": 4
}
