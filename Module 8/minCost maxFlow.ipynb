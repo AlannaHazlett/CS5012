{
 "cells": [
  {
   "cell_type": "markdown",
   "metadata": {
    "id": "u_nc8m7Ifwbz"
   },
   "source": [
    "# Min Cost Max Flow Example using Networkx\n",
    "\n",
    "Below is an example of solving a min cost - max flow problem using networkx. The Example below mimics the classic transportation problem where goods are shipped from suppliers to demanders.\n",
    "\n",
    "Here we assume a Bipartite Structure with an added source (Node 1) and sink (Node 7). Weights and capacities are added as edge attributes representing distance penalty (cost per unit flow)and demand of goods (unit flow of goods), respectively. \n",
    "\n",
    "In this example, Node 2 has 50 units of goods and Node 3 has 50 units of goods. These goods must be transported to Node 3 (which can accept 40 units) and Node 4 (which can accept 60 units). The cost (or penalty) incurred for each unit of goods is 0 from node 2 to node 4 and 0 from node 3 to node 5. However, a penalty of 1 is applied for transporting goods from node 2 to node 5 and node 3 to node 4. \n",
    "\n",
    "What is the min cost solution for transporting these goods???\n",
    "\n",
    "## Steps\n",
    "\n",
    "1. Construct the Graph that correctly models this problem. Setting up the graph with the correct connections, capacities, and weights is key here!\n",
    "2. Use built-in solver from networkx: max_flow_min_cost(...)"
   ]
  },
  {
   "cell_type": "code",
   "execution_count": 1,
   "metadata": {
    "colab": {
     "base_uri": "https://localhost:8080/",
     "height": 319
    },
    "id": "foWMicRI4ls6",
    "outputId": "95110fc4-5f9b-4505-feb0-c3dff5c771f6"
   },
   "outputs": [
    {
     "data": {
      "image/png": "[encoded data removed]",
      "text/plain": [
       "<Figure size 640x480 with 1 Axes>"
      ]
     },
     "metadata": {},
     "output_type": "display_data"
    }
   ],
   "source": [
    "import networkx as nx\n",
    "import matplotlib.pyplot as plt\n",
    "from networkx.algorithms.flow import maximum_flow\n",
    "\n",
    "'''\n",
    "Construct the directed bipartite graph with added source and sink.\n",
    "'''\n",
    "\n",
    "G = nx.DiGraph()\n",
    "G.add_edges_from(\n",
    "    [\n",
    "        (1, 2, {\"capacity\": 50, \"weight\": 0}),\n",
    "        (1, 3, {\"capacity\": 50, \"weight\": 0}),\n",
    "        (2, 4, {\"capacity\": 40, \"weight\": 0}),\n",
    "        (2, 5, {\"capacity\": 60, \"weight\": 1}),\n",
    "        (3, 4, {\"capacity\": 40,\"weight\": 1}),\n",
    "        (3, 5, {\"capacity\": 60, \"weight\": 0}),\n",
    "        (4, 7, {\"capacity\": 40,\"weight\": 0}),\n",
    "        (5, 7, {\"capacity\": 60, \"weight\": 0}),\n",
    "    ]\n",
    ")\n",
    "\n",
    "'''\n",
    "Draw resulting graph using bipartite positioning\n",
    "'''\n",
    "\n",
    "pos = nx.bipartite_layout(G, [1,2,3], align='vertical', scale=1, center=None)\n",
    "labels = nx.get_edge_attributes(G,'weight')\n",
    "nx.draw(G, pos=pos, with_labels=True, font_weight='bold')\n",
    "plt.show()\n",
    "\n"
   ]
  },
  {
   "cell_type": "markdown",
   "metadata": {
    "id": "AKTxuybDZRwr"
   },
   "source": [
    "#Max Flow and Min Cost\n",
    "\n",
    "Great! The graph has been drawn and the structure correctly reflects the problem at hand! Lets check the min cost flow and the min cost!\n",
    "\n",
    "The min cost flow is the flow of good through the network that results in the min cost.\n",
    "\n",
    "The min cost is the total resulting cost.\n"
   ]
  },
  {
   "cell_type": "code",
   "execution_count": 2,
   "metadata": {
    "colab": {
     "base_uri": "https://localhost:8080/"
    },
    "id": "qKQK49N5ZKuF",
    "outputId": "992e6ba1-65e9-4660-dd83-0589da5a9f2e"
   },
   "outputs": [
    {
     "name": "stdout",
     "output_type": "stream",
     "text": [
      "The min cost max flow is ...\n",
      "{1: {2: 50, 3: 50}, 2: {4: 40, 5: 10}, 3: {4: 0, 5: 50}, 4: {7: 40}, 5: {7: 60}, 7: {}}\n",
      "\n",
      "\n",
      "The min cost is ...\n",
      "10\n",
      "\n",
      "One of the many potential max flows is ... \n",
      "{1: {2: 50, 3: 50}, 2: {4: 0, 5: 50}, 3: {4: 40, 5: 10}, 4: {7: 40}, 5: {7: 60}, 7: {}}\n",
      "\n",
      "The cost of that max flow is ... \n",
      "90\n"
     ]
    }
   ],
   "source": [
    "\n",
    "mincostFlow = nx.max_flow_min_cost(G, 1, 7)\n",
    "mincost = nx.cost_of_flow(G, mincostFlow)\n",
    "print(\"The min cost max flow is ...\")\n",
    "print(mincostFlow) \n",
    "print(\"\\n\")\n",
    "print(\"The min cost is ...\")\n",
    "print(mincost)\n",
    "#10\n",
    "\n",
    "\n",
    "\n",
    "maxFlow = maximum_flow(G, 1, 7)[1]\n",
    "print(\"\\nOne of the many potential max flows is ... \")\n",
    "print(maxFlow)\n",
    "\n",
    "print(\"\\nThe cost of that max flow is ... \")\n",
    "print(nx.cost_of_flow(G, maxFlow))\n",
    "\n",
    "\n",
    "\n"
   ]
  },
  {
   "cell_type": "markdown",
   "metadata": {
    "id": "WgWKbY5xaPZe"
   },
   "source": [
    "#Total Flow\n",
    "\n",
    "The total flow from suppliers to all demanders (from sink to source) is computed as follows:"
   ]
  },
  {
   "cell_type": "code",
   "execution_count": 3,
   "metadata": {
    "colab": {
     "base_uri": "https://localhost:8080/"
    },
    "id": "aHjAsF1EaOJr",
    "outputId": "a9a52085-5a51-4edd-dc4a-758bb11f0ebe"
   },
   "outputs": [
    {
     "name": "stdout",
     "output_type": "stream",
     "text": [
      "Lets confirm the flow associated with the min cost is in fact a max flow ... \n",
      "True\n",
      "\n",
      "What is the total flow (of goods)?\n",
      "100\n"
     ]
    }
   ],
   "source": [
    "\n",
    "mincostFlowValue = sum((mincostFlow[u][7] for u in G.predecessors(7)))\n",
    "\n",
    "print('Lets confirm the flow associated with the min cost is in fact a max flow ... ')\n",
    "print(mincostFlowValue == nx.maximum_flow_value(G, 1, 7))\n",
    "#True\n",
    "print(\"\\nWhat is the total flow (of goods)?\")\n",
    "print(nx.maximum_flow_value(G, 1, 7))"
   ]
  },
  {
   "cell_type": "code",
   "execution_count": null,
   "metadata": {},
   "outputs": [],
   "source": []
  }
 ],
 "metadata": {
  "colab": {
   "collapsed_sections": [],
   "name": "5012_mod8_minCost_maxFlow.ipynb",
   "provenance": []
  },
  "kernelspec": {
   "display_name": "Python 3 (ipykernel)",
   "language": "python",
   "name": "python3"
  },
  "language_info": {
   "codemirror_mode": {
    "name": "ipython",
    "version": 3
   },
   "file_extension": ".py",
   "mimetype": "text/x-python",
   "name": "python",
   "nbconvert_exporter": "python",
   "pygments_lexer": "ipython3",
   "version": "3.11.4"
  }
 },
 "nbformat": 4,
 "nbformat_minor": 4
}
