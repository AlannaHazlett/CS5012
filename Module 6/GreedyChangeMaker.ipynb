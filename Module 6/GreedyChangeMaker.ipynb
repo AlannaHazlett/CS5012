{
 "cells": [
  {
   "cell_type": "code",
   "execution_count": 6,
   "id": "6b250e7e-4343-47a9-9271-e4362d1efc4b",
   "metadata": {},
   "outputs": [],
   "source": [
    "# -*- coding: utf-8 -*-\n",
    "\"\"\"\n",
    "Created on Sat Mar 12 19:14:17 2022\n",
    "Given an amount in [1, 99] cents, make change\n",
    "Follow a greedy heuristic, giving back the fewest possible number of coins\n",
    "@author: apt4c\n",
    "\"\"\"\n",
    "\n",
    "class ChangeMaker:\n",
    "    def __init__(self, denoms):\n",
    "        self.denoms = denoms # change denominations\n",
    "        self.lower = 0       # lower bound\n",
    "        self.upper = 100     # upper bound\n",
    "        \n",
    "    def initialize_coins(self):\n",
    "        '''\n",
    "        set the initial coin counts to zero for each denomination\n",
    "        '''\n",
    "        self.coins = {denom:0 for denom in self.denoms}\n",
    "        \n",
    "    def make_change(self, target):\n",
    "        '''\n",
    "        Use greedy algorithm to make change (use max quarters, then dimes, ...)\n",
    "        '''\n",
    "        \n",
    "        # validate the target\n",
    "        assert target > self.lower, \"target must be > 0\"\n",
    "        assert target < self.upper, \"target must be < $1\"\n",
    "        \n",
    "        self.initialize_coins()\n",
    "        \n",
    "        while target > self.lower:                    # While target less than lower bound\n",
    "            for denom in denoms:                      # For each denomination\n",
    "                if target >= denom:                   # If target >= denomination\n",
    "                    quotient = target // denom        # Get # of times that coin is used\n",
    "                    self.coins[denom] += quotient     # Utilizing index of coin denomination add number of coins \n",
    "                    target -= denom * quotient        # Subtract value of coins from amount"
   ]
  },
  {
   "cell_type": "code",
   "execution_count": 12,
   "id": "3f4174f1-ea71-4c75-b8a5-110c5e19454c",
   "metadata": {},
   "outputs": [
    {
     "name": "stdout",
     "output_type": "stream",
     "text": [
      "test amount: 99\n",
      "{25: 3, 10: 2, 5: 0, 1: 4} \n",
      "\n",
      "test amount: 75\n",
      "{25: 3, 10: 0, 5: 0, 1: 0} \n",
      "\n",
      "test amount: 74\n",
      "{25: 2, 10: 2, 5: 0, 1: 4} \n",
      "\n",
      "test amount: 24\n",
      "{25: 0, 10: 2, 5: 0, 1: 4} \n",
      "\n",
      "test amount: 11\n",
      "{25: 0, 10: 1, 5: 0, 1: 1} \n",
      "\n",
      "test amount: 9\n",
      "{25: 0, 10: 0, 5: 1, 1: 4} \n",
      "\n",
      "test amount: 4\n",
      "{25: 0, 10: 0, 5: 0, 1: 4} \n",
      "\n"
     ]
    }
   ],
   "source": [
    "# set up parameters\n",
    "denoms = [25,10,5,1]\n",
    "test_amounts = [99,75,74,24,11,9,4]\n",
    "\n",
    "# Create ChangeMarker object\n",
    "cm1 = ChangeMaker(denoms)\n",
    "\n",
    "for amt in test_amounts:\n",
    "    cm1.make_change(amt)\n",
    "    print('test amount:', amt)\n",
    "    print(cm1.coins, '\\n') #-- \\n is new line"
   ]
  },
  {
   "cell_type": "markdown",
   "id": "92b9d2f5-f496-4689-9219-a276c05dfdb9",
   "metadata": {},
   "source": [
    "#### Edge Cases"
   ]
  },
  {
   "cell_type": "code",
   "execution_count": 8,
   "id": "e9f5efdb-0e94-4fcc-a050-47aafc21313a",
   "metadata": {},
   "outputs": [
    {
     "ename": "AssertionError",
     "evalue": "target must be < $1",
     "output_type": "error",
     "traceback": [
      "\u001b[0;31m---------------------------------------------------------------------------\u001b[0m",
      "\u001b[0;31mAssertionError\u001b[0m                            Traceback (most recent call last)",
      "Cell \u001b[0;32mIn[8], line 1\u001b[0m\n\u001b[0;32m----> 1\u001b[0m \u001b[43mcm1\u001b[49m\u001b[38;5;241;43m.\u001b[39;49m\u001b[43mmake_change\u001b[49m\u001b[43m(\u001b[49m\u001b[38;5;241;43m101\u001b[39;49m\u001b[43m)\u001b[49m\n",
      "Cell \u001b[0;32mIn[6], line 28\u001b[0m, in \u001b[0;36mChangeMaker.make_change\u001b[0;34m(self, target)\u001b[0m\n\u001b[1;32m     26\u001b[0m \u001b[38;5;66;03m# validate the target\u001b[39;00m\n\u001b[1;32m     27\u001b[0m \u001b[38;5;28;01massert\u001b[39;00m target \u001b[38;5;241m>\u001b[39m \u001b[38;5;28mself\u001b[39m\u001b[38;5;241m.\u001b[39mlower, \u001b[38;5;124m\"\u001b[39m\u001b[38;5;124mtarget must be > 0\u001b[39m\u001b[38;5;124m\"\u001b[39m\n\u001b[0;32m---> 28\u001b[0m \u001b[38;5;28;01massert\u001b[39;00m target \u001b[38;5;241m<\u001b[39m \u001b[38;5;28mself\u001b[39m\u001b[38;5;241m.\u001b[39mupper, \u001b[38;5;124m\"\u001b[39m\u001b[38;5;124mtarget must be < $1\u001b[39m\u001b[38;5;124m\"\u001b[39m\n\u001b[1;32m     30\u001b[0m \u001b[38;5;28mself\u001b[39m\u001b[38;5;241m.\u001b[39minitialize_coins()\n\u001b[1;32m     32\u001b[0m \u001b[38;5;28;01mwhile\u001b[39;00m target \u001b[38;5;241m>\u001b[39m \u001b[38;5;28mself\u001b[39m\u001b[38;5;241m.\u001b[39mlower:\n",
      "\u001b[0;31mAssertionError\u001b[0m: target must be < $1"
     ]
    }
   ],
   "source": [
    "cm1.make_change(101)"
   ]
  },
  {
   "cell_type": "code",
   "execution_count": 9,
   "id": "33e7112f-6d1a-42d1-954a-6a0e152e9267",
   "metadata": {},
   "outputs": [
    {
     "ename": "AssertionError",
     "evalue": "target must be > 0",
     "output_type": "error",
     "traceback": [
      "\u001b[0;31m---------------------------------------------------------------------------\u001b[0m",
      "\u001b[0;31mAssertionError\u001b[0m                            Traceback (most recent call last)",
      "Cell \u001b[0;32mIn[9], line 1\u001b[0m\n\u001b[0;32m----> 1\u001b[0m \u001b[43mcm1\u001b[49m\u001b[38;5;241;43m.\u001b[39;49m\u001b[43mmake_change\u001b[49m\u001b[43m(\u001b[49m\u001b[38;5;241;43m-\u001b[39;49m\u001b[38;5;241;43m1\u001b[39;49m\u001b[43m)\u001b[49m\n",
      "Cell \u001b[0;32mIn[6], line 27\u001b[0m, in \u001b[0;36mChangeMaker.make_change\u001b[0;34m(self, target)\u001b[0m\n\u001b[1;32m     22\u001b[0m \u001b[38;5;250m\u001b[39m\u001b[38;5;124;03m'''\u001b[39;00m\n\u001b[1;32m     23\u001b[0m \u001b[38;5;124;03mUse greedy algorithm to make change (use max quarters, then dimes, ...)\u001b[39;00m\n\u001b[1;32m     24\u001b[0m \u001b[38;5;124;03m'''\u001b[39;00m\n\u001b[1;32m     26\u001b[0m \u001b[38;5;66;03m# validate the target\u001b[39;00m\n\u001b[0;32m---> 27\u001b[0m \u001b[38;5;28;01massert\u001b[39;00m target \u001b[38;5;241m>\u001b[39m \u001b[38;5;28mself\u001b[39m\u001b[38;5;241m.\u001b[39mlower, \u001b[38;5;124m\"\u001b[39m\u001b[38;5;124mtarget must be > 0\u001b[39m\u001b[38;5;124m\"\u001b[39m\n\u001b[1;32m     28\u001b[0m \u001b[38;5;28;01massert\u001b[39;00m target \u001b[38;5;241m<\u001b[39m \u001b[38;5;28mself\u001b[39m\u001b[38;5;241m.\u001b[39mupper, \u001b[38;5;124m\"\u001b[39m\u001b[38;5;124mtarget must be < $1\u001b[39m\u001b[38;5;124m\"\u001b[39m\n\u001b[1;32m     30\u001b[0m \u001b[38;5;28mself\u001b[39m\u001b[38;5;241m.\u001b[39minitialize_coins()\n",
      "\u001b[0;31mAssertionError\u001b[0m: target must be > 0"
     ]
    }
   ],
   "source": [
    "cm1.make_change(-1)"
   ]
  },
  {
   "cell_type": "markdown",
   "id": "83f361de-126d-49d7-b858-669a11d54f23",
   "metadata": {},
   "source": [
    "## Question 1: What small change can be made to give back the largest number of coins?"
   ]
  },
  {
   "cell_type": "markdown",
   "id": "ef3f5f0f-4a34-4110-9cdd-67e59abecce5",
   "metadata": {},
   "source": [
    "> Reorder the denominations list to be smallest coin value first. "
   ]
  },
  {
   "cell_type": "markdown",
   "id": "486c75c2-c71b-4a7d-b052-0f6880b9faa8",
   "metadata": {},
   "source": [
    "## Question 2: Can you think of code modifications to make change following a different heuristic?"
   ]
  },
  {
   "cell_type": "code",
   "execution_count": null,
   "id": "1a4fc2ce-5388-406f-9cb2-b5b51b67557c",
   "metadata": {},
   "outputs": [],
   "source": []
  }
 ],
 "metadata": {
  "kernelspec": {
   "display_name": "Python 3 (ipykernel)",
   "language": "python",
   "name": "python3"
  },
  "language_info": {
   "codemirror_mode": {
    "name": "ipython",
    "version": 3
   },
   "file_extension": ".py",
   "mimetype": "text/x-python",
   "name": "python",
   "nbconvert_exporter": "python",
   "pygments_lexer": "ipython3",
   "version": "3.11.4"
  }
 },
 "nbformat": 4,
 "nbformat_minor": 5
}
